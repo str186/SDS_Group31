{
 "cells": [
  {
   "cell_type": "code",
   "execution_count": 1,
   "metadata": {},
   "outputs": [],
   "source": [
    "import pandas as pd\n",
    "import random\n",
    "import numpy as np\n",
    "import matplotlib.pyplot as plt\n",
    "from multiprocessing import Pool"
   ]
  },
  {
   "cell_type": "code",
   "execution_count": 2,
   "metadata": {},
   "outputs": [],
   "source": [
    "#IMPORTANT : THIS IS IN EXCEL FORMAT, CHANGE TO CSV IF YOUR FILE IS NOT XLSX\n",
    "df_q_list = pd.read_excel(\"question_data.xlsx\")"
   ]
  },
  {
   "cell_type": "code",
   "execution_count": 3,
   "metadata": {},
   "outputs": [],
   "source": [
    "# TAKE A SAMPLE OF DATA\n",
    "filename = \"user_data_public.csv\"\n",
    "n = sum(1 for line in open(filename)) - 1 #number of records in file (excludes header)\n",
    "s = 1000 #desired sample size\n",
    "skip = sorted(random.sample(range(1,n+1),n-s)) #the 0-indexed header will not be included in the skip list\n",
    "df_master = pd.read_csv(filename, skiprows=skip, dtype = object)"
   ]
  },
  {
   "cell_type": "code",
   "execution_count": 4,
   "metadata": {},
   "outputs": [],
   "source": [
    "#Count not missing each row i.e: number of answered questions by each preson:\n",
    "df_master[\"answered_questions\"] = df_master.notnull().sum(axis=1)"
   ]
  },
  {
   "cell_type": "code",
   "execution_count": 5,
   "metadata": {},
   "outputs": [],
   "source": [
    "# Take only questions with n answers and put the questions in a column\n",
    "#df_q.N.plot(kind=\"hist\")\n",
    "\n",
    "n_answers = 20000\n",
    "df_keep = pd.DataFrame()\n",
    "df_keep['keep_questions'] = df_q_list[df_q_list[\"N\"]>n_answers].index"
   ]
  },
  {
   "cell_type": "code",
   "execution_count": 6,
   "metadata": {},
   "outputs": [],
   "source": [
    "#Keep only questions that are also in master dataframe\n",
    "df_keep = df_keep[df_keep[\"keep_questions\"].isin(list(df_master.columns.values))]"
   ]
  },
  {
   "cell_type": "code",
   "execution_count": 7,
   "metadata": {},
   "outputs": [],
   "source": [
    "#Choose only rows with at least 1000 answered questions\n",
    "df_clean_question = df_master[df_master[\"answered_questions\"]>1000]"
   ]
  },
  {
   "cell_type": "code",
   "execution_count": 8,
   "metadata": {},
   "outputs": [],
   "source": [
    "#Create new dataset with only most answered questions\n",
    "df_clean_v1 = df_clean_question[list(df_keep[\"keep_questions\"])]"
   ]
  },
  {
   "cell_type": "code",
   "execution_count": 9,
   "metadata": {},
   "outputs": [],
   "source": [
    "#Create dummy for sexual orientation, where 1 = NOT STRAIGHT\n",
    "sexual_orientation = []\n",
    "for x in df_clean_v1['d_orientation']:\n",
    "    if pd.isnull(x):\n",
    "        sexual_orientation.append(1) #Since we have persons answered over a 1000 questions, so if they have not answered their sexual orientation we assume they are either uncertain or dont want to disclose because of fear of persecution/judgement from peers\n",
    "    elif x != \"Straight\":\n",
    "        sexual_orientation.append(1)\n",
    "    else:\n",
    "        sexual_orientation.append(0)"
   ]
  },
  {
   "cell_type": "code",
   "execution_count": 10,
   "metadata": {},
   "outputs": [],
   "source": [
    "#Turn it into a dataframe and put labels from dataframe on\n",
    "y = pd.DataFrame(sexual_orientation, index = df_clean_v1.index)"
   ]
  },
  {
   "cell_type": "code",
   "execution_count": 11,
   "metadata": {},
   "outputs": [
    {
     "name": "stdout",
     "output_type": "stream",
     "text": [
      "\n"
     ]
    },
    {
     "name": "stderr",
     "output_type": "stream",
     "text": [
      "/anaconda3/lib/python3.5/site-packages/pandas/core/frame.py:3697: SettingWithCopyWarning: \n",
      "A value is trying to be set on a copy of a slice from a DataFrame\n",
      "\n",
      "See the caveats in the documentation: http://pandas.pydata.org/pandas-docs/stable/indexing.html#indexing-view-versus-copy\n",
      "  errors=errors)\n"
     ]
    }
   ],
   "source": [
    "# Drop sexual orientation from master dataframe\n",
    "df_clean_v1.drop(columns = [\"d_orientation\"], inplace = True)\n",
    "print()"
   ]
  },
  {
   "cell_type": "code",
   "execution_count": null,
   "metadata": {},
   "outputs": [],
   "source": [
    "#UNCOMMENT THIS IF YOU WANT TO SEE HOW MANY ROWS AND QUESTIONS YOU ENDED UP WITH, AND HOW MANY MISSING IN THE ROWS\n",
    "#df_clean_v1.shape\n",
    "#df_clean_v1.isnull().sum(axis=1)"
   ]
  },
  {
   "cell_type": "code",
   "execution_count": 53,
   "metadata": {},
   "outputs": [],
   "source": [
    "#Remove the most problematic questions, and them make all of the categorical variables dummiew\n",
    "df_prep = df_clean_v1.drop(columns = [\"q1401\", \"q80928\", \"q546\", \"q1040\"])\n",
    "df_dummy = pd.get_dummies(df_prep, dummy_na = False) #When missing giver 0 to all dummies created for the quesion with the missing value\n",
    "#df_dummy.fillna(value = -1, inplace = True) #If missing insert -1 # This code does not work\n",
    "X = df_dummy"
   ]
  },
  {
   "cell_type": "code",
   "execution_count": 55,
   "metadata": {},
   "outputs": [],
   "source": [
    "#INSERT MISSING VALUES BACK INTO THE DUMMIES FOR LATER IMPUTER\n",
    "for i in list(df_keep[\"keep_questions\"].head()):\n",
    "    X.loc[df_prep[i].isnull(), X.columns.str.startswith(i+\"_\")] = np.nan"
   ]
  },
  {
   "cell_type": "code",
   "execution_count": 69,
   "metadata": {},
   "outputs": [
    {
     "name": "stdout",
     "output_type": "stream",
     "text": [
      "0.849462365591\n",
      "0    0.182796\n",
      "dtype: float64\n"
     ]
    }
   ],
   "source": [
    "# THIS IS A TEST USING A DECISION TREE\n",
    "\n",
    "from sklearn import datasets\n",
    "from sklearn.model_selection import train_test_split\n",
    "from sklearn.tree import DecisionTreeClassifier\n",
    "from sklearn.metrics import accuracy_score\n",
    "from sklearn.preprocessing import Imputer\n",
    "\n",
    "X_train, X_test, y_train, y_test = train_test_split(X, y, test_size=0.3, random_state=1, stratify=y)\n",
    "tree = DecisionTreeClassifier(criterion='gini', max_depth= 4, random_state=1)\n",
    "\n",
    "#IMPUTER REPLACE MISSINGS WITH THE MEAN OF THE COLUMN\n",
    "im = Imputer()\n",
    "X_train = im.fit_transform(X_train)\n",
    "X_test = im.fit_transform(X_test)\n",
    "\n",
    "# FIT AND PREDICT THE TREE\n",
    "tree.fit(X_trans, y_train)\n",
    "predict = pd.DataFrame(tree.predict(X_test),index = y_test.index)\n",
    "print(accuracy_score(y_test, predict)) #This shows the accuracy of our decision tree\n",
    "print(y_test.mean()) #This shows how many not straight rows in the dataset"
   ]
  },
  {
   "cell_type": "code",
   "execution_count": null,
   "metadata": {},
   "outputs": [],
   "source": []
  },
  {
   "cell_type": "code",
   "execution_count": null,
   "metadata": {},
   "outputs": [],
   "source": []
  },
  {
   "cell_type": "code",
   "execution_count": null,
   "metadata": {},
   "outputs": [],
   "source": []
  },
  {
   "cell_type": "code",
   "execution_count": null,
   "metadata": {},
   "outputs": [],
   "source": []
  },
  {
   "cell_type": "code",
   "execution_count": null,
   "metadata": {},
   "outputs": [],
   "source": []
  },
  {
   "cell_type": "code",
   "execution_count": null,
   "metadata": {},
   "outputs": [],
   "source": []
  },
  {
   "cell_type": "code",
   "execution_count": null,
   "metadata": {},
   "outputs": [],
   "source": []
  },
  {
   "cell_type": "code",
   "execution_count": null,
   "metadata": {},
   "outputs": [],
   "source": []
  },
  {
   "cell_type": "code",
   "execution_count": null,
   "metadata": {},
   "outputs": [],
   "source": []
  },
  {
   "cell_type": "code",
   "execution_count": null,
   "metadata": {},
   "outputs": [],
   "source": []
  },
  {
   "cell_type": "code",
   "execution_count": null,
   "metadata": {},
   "outputs": [],
   "source": []
  },
  {
   "cell_type": "code",
   "execution_count": null,
   "metadata": {},
   "outputs": [],
   "source": []
  },
  {
   "cell_type": "code",
   "execution_count": null,
   "metadata": {},
   "outputs": [],
   "source": []
  }
 ],
 "metadata": {
  "kernelspec": {
   "display_name": "Python 3",
   "language": "python",
   "name": "python3"
  },
  "language_info": {
   "codemirror_mode": {
    "name": "ipython",
    "version": 3
   },
   "file_extension": ".py",
   "mimetype": "text/x-python",
   "name": "python",
   "nbconvert_exporter": "python",
   "pygments_lexer": "ipython3",
   "version": "3.5.5"
  }
 },
 "nbformat": 4,
 "nbformat_minor": 2
}
