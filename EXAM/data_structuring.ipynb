{
 "cells": [
  {
   "cell_type": "code",
   "execution_count": 1,
   "metadata": {},
   "outputs": [],
   "source": [
    "import pandas as pd\n",
    "import random\n",
    "import numpy as np\n",
    "import matplotlib.pyplot as plt\n",
    "from multiprocessing import Pool\n",
    "import seaborn as sns"
   ]
  },
  {
   "cell_type": "code",
   "execution_count": 2,
   "metadata": {},
   "outputs": [],
   "source": [
    "#IMPORTANT : THIS IS IN EXCEL FORMAT, CHANGE TO CSV IF YOUR FILE IS NOT XLSX\n",
    "df_q_list = pd.read_excel(\"question_data.xlsx\")"
   ]
  },
  {
   "cell_type": "code",
   "execution_count": 3,
   "metadata": {},
   "outputs": [],
   "source": [
    "# TAKE A SAMPLE OF DATA\n",
    "filename = \"user_data_public.csv\"\n",
    "n = sum(1 for line in open(filename)) - 1 #number of records in file (excludes header)\n",
    "s = 1000 #desired sample size\n",
    "skip = sorted(random.sample(range(1,n+1),n-s)) #the 0-indexed header will not be included in the skip list\n",
    "df_master = pd.read_csv(filename, skiprows=skip, dtype = object)"
   ]
  },
  {
   "cell_type": "code",
   "execution_count": 4,
   "metadata": {},
   "outputs": [],
   "source": [
    "#Count not missing each row i.e: number of answered questions by each preson:\n",
    "df_master[\"answered_questions\"] = df_master.notnull().sum(axis=1)"
   ]
  },
  {
   "cell_type": "code",
   "execution_count": 5,
   "metadata": {},
   "outputs": [],
   "source": [
    "# Take only questions with n answers and put the questions in a column\n",
    "#df_q.N.plot(kind=\"hist\")\n",
    "\n",
    "n_answers = 20000\n",
    "df_keep = pd.DataFrame()\n",
    "df_keep['keep_questions'] = df_q_list[df_q_list[\"N\"]>n_answers].index"
   ]
  },
  {
   "cell_type": "code",
   "execution_count": 6,
   "metadata": {},
   "outputs": [],
   "source": [
    "#Keep only questions that are also in master dataframe\n",
    "df_keep = df_keep[df_keep[\"keep_questions\"].isin(list(df_master.columns.values))]"
   ]
  },
  {
   "cell_type": "code",
   "execution_count": 7,
   "metadata": {},
   "outputs": [],
   "source": [
    "#Choose only rows with at least 1000 answered questions\n",
    "df_clean_question = df_master[df_master[\"answered_questions\"]>1000]"
   ]
  },
  {
   "cell_type": "code",
   "execution_count": 8,
   "metadata": {},
   "outputs": [],
   "source": [
    "#Create new dataset with only most answered questions\n",
    "df_clean_v1 = df_clean_question[list(df_keep[\"keep_questions\"])]"
   ]
  },
  {
   "cell_type": "code",
   "execution_count": 9,
   "metadata": {},
   "outputs": [],
   "source": [
    "#Create dummy for sexual orientation, where 1 = NOT STRAIGHT\n",
    "sexual_orientation = []\n",
    "for x in df_clean_v1['d_orientation']:\n",
    "    if pd.isnull(x):\n",
    "        sexual_orientation.append(1) #Since we have persons answered over a 1000 questions, so if they have not answered their sexual orientation we assume they are either uncertain or dont want to disclose because of fear of persecution/judgement from peers\n",
    "    elif x != \"Straight\":\n",
    "        sexual_orientation.append(1)\n",
    "    else:\n",
    "        sexual_orientation.append(0)"
   ]
  },
  {
   "cell_type": "code",
   "execution_count": 10,
   "metadata": {},
   "outputs": [],
   "source": [
    "#Turn it into a dataframe and put labels from dataframe on\n",
    "y = pd.DataFrame(sexual_orientation, index = df_clean_v1.index)"
   ]
  },
  {
   "cell_type": "code",
   "execution_count": 11,
   "metadata": {},
   "outputs": [
    {
     "name": "stdout",
     "output_type": "stream",
     "text": [
      "\n"
     ]
    },
    {
     "name": "stderr",
     "output_type": "stream",
     "text": [
      "/anaconda3/lib/python3.5/site-packages/pandas/core/frame.py:3697: SettingWithCopyWarning: \n",
      "A value is trying to be set on a copy of a slice from a DataFrame\n",
      "\n",
      "See the caveats in the documentation: http://pandas.pydata.org/pandas-docs/stable/indexing.html#indexing-view-versus-copy\n",
      "  errors=errors)\n"
     ]
    }
   ],
   "source": [
    "# Drop sexual orientation from master dataframe\n",
    "df_clean_v1.drop(columns = [\"d_orientation\"], inplace = True)\n",
    "print()"
   ]
  },
  {
   "cell_type": "code",
   "execution_count": 12,
   "metadata": {},
   "outputs": [],
   "source": [
    "#UNCOMMENT THIS IF YOU WANT TO SEE HOW MANY ROWS AND QUESTIONS YOU ENDED UP WITH, AND HOW MANY MISSING IN THE ROWS\n",
    "#df_clean_v1.shape\n",
    "#df_clean_v1.isnull().sum(axis=1)"
   ]
  },
  {
   "cell_type": "code",
   "execution_count": 25,
   "metadata": {},
   "outputs": [],
   "source": [
    "#Remove the most problematic questions, and them make all of the categorical variables dummiew\n",
    "df_prep = df_clean_v1.drop(columns = [\"q1401\", \"q80928\", \"q546\", \"q1040\"])\n",
    "df_dummy = pd.get_dummies(df_prep, dummy_na = False) #When missing giver 0 to all dummies created for the quesion with the missing value\n",
    "#df_dummy.fillna(value = -1, inplace = True) #If missing insert -1 # This code does not work\n",
    "X = df_dummy"
   ]
  },
  {
   "cell_type": "code",
   "execution_count": 26,
   "metadata": {},
   "outputs": [],
   "source": [
    "#INSERT MISSING VALUES BACK INTO THE DUMMIES FOR LATER IMPUTER\n",
    "for i in list(df_keep[\"keep_questions\"].head()):\n",
    "    X.loc[df_prep[i].isnull(), X.columns.str.startswith(i+\"_\")] = np.nan"
   ]
  },
  {
   "cell_type": "markdown",
   "metadata": {},
   "source": [
    "# STOP HERE"
   ]
  },
  {
   "cell_type": "code",
   "execution_count": null,
   "metadata": {},
   "outputs": [],
   "source": [
    "# UNSUPERVISED LEARNING CLUSTERS:\n",
    "from sklearn.cluster import KMeans\n",
    "from sklearn.preprocessing import Imputer\n",
    "from sklearn.metrics import accuracy_score, mean_squared_error as mse\n",
    "im = Imputer()\n",
    "X = pd.DataFrame(im.fit_transform(X), index = X.index)"
   ]
  },
  {
   "cell_type": "code",
   "execution_count": null,
   "metadata": {},
   "outputs": [],
   "source": [
    "# create kmeans object\n",
    "kmeans = KMeans(n_clusters=2)\n",
    "# fit kmeans object to data\n",
    "kmeans.fit(X)\n",
    "# print location of clusters learned by kmeans object\n",
    "#print(kmeans.cluster_centers_)\n",
    "# save new clusters for chart\n",
    "y_km = pd.DataFrame(kmeans.fit_predict(X), index = y.index) \n",
    "accuracy_score(y,y_km)"
   ]
  },
  {
   "cell_type": "code",
   "execution_count": null,
   "metadata": {},
   "outputs": [],
   "source": [
    "#Make into DF for add column\n",
    "df_X = pd.DataFrame(X, index = df_clean_v1.index).copy()\n",
    "df_X[\"unsupervised\"] = y_km"
   ]
  },
  {
   "cell_type": "code",
   "execution_count": 15,
   "metadata": {},
   "outputs": [],
   "source": [
    "import warnings\n",
    "from sklearn.exceptions import ConvergenceWarning\n",
    "warnings.filterwarnings(action='ignore', category=ConvergenceWarning)\n",
    "\n",
    "import matplotlib.pyplot as plt\n",
    "import numpy as np \n",
    "import pandas as pd \n",
    "import seaborn as sns\n",
    "from sklearn.linear_model import Lasso, LinearRegression, LogisticRegression\n",
    "from sklearn.pipeline import make_pipeline\n",
    "from sklearn.preprocessing import PolynomialFeatures, StandardScaler\n",
    "from sklearn.metrics import mean_squared_error as mse\n",
    "from sklearn.model_selection import train_test_split\n",
    "from sklearn.preprocessing import Imputer"
   ]
  },
  {
   "cell_type": "code",
   "execution_count": 129,
   "metadata": {},
   "outputs": [
    {
     "name": "stdout",
     "output_type": "stream",
     "text": [
      "0.79381443299\n",
      "\n",
      "0.865979381443\n"
     ]
    },
    {
     "name": "stderr",
     "output_type": "stream",
     "text": [
      "/anaconda3/lib/python3.5/site-packages/sklearn/utils/validation.py:578: DataConversionWarning: A column-vector y was passed when a 1d array was expected. Please change the shape of y to (n_samples, ), for example using ravel().\n",
      "  y = column_or_1d(y, warn=True)\n"
     ]
    }
   ],
   "source": [
    "X_dev, X_test, y_dev, y_test = train_test_split(X, y, test_size=1/3, random_state=1)\n",
    "X_train, X_val, y_train, y_val = train_test_split(X_dev, y_dev, test_size=1/2, random_state=1)\n",
    "\n",
    "im = Imputer()\n",
    "X_train = im.fit_transform(X_train)\n",
    "X_dev = im.fit_transform(X_dev)\n",
    "X_test = im.transform(X_test)\n",
    "X_val = im.transform(X_val)\n",
    "pipe_lasso = make_pipeline(LogisticRegression(random_state= 1))\n",
    "pipe_lasso.fit(X_train,y_train)\n",
    "y_pred = pipe_lasso.predict(X_val)\n",
    "y_pred_test = pipe_lasso.predict(X_test)\n",
    "print(accuracy_score(y_val, y_pred))\n",
    "print()\n",
    "print(accuracy_score(y_test, y_pred_test))"
   ]
  },
  {
   "cell_type": "markdown",
   "metadata": {},
   "source": [
    "# RUN FROM HERE"
   ]
  },
  {
   "cell_type": "code",
   "execution_count": 107,
   "metadata": {},
   "outputs": [],
   "source": [
    "# splitting into development (2/3) and test data (1/3)\n",
    "X_dev, X_test, y_dev, y_test = train_test_split(X, y, test_size=0.2, random_state=1)\n",
    "# splitting development into train (1/2) and validation (1/2)\n",
    "#X_train, X_val, y_train, y_val = train_test_split(X_dev, y_dev, test_size=1/2, random_state=1)"
   ]
  },
  {
   "cell_type": "code",
   "execution_count": 108,
   "metadata": {},
   "outputs": [],
   "source": [
    "#USE FOLDS TO FIND OPTIMAL HYPERPARAMETER\n",
    "from sklearn.model_selection import KFold\n",
    "from sklearn.tree import DecisionTreeClassifier\n",
    "from sklearn.preprocessing import Imputer\n",
    "from sklearn.metrics import accuracy_score\n",
    "kfolds = KFold(n_splits=10)\n",
    "accuracy = []\n",
    "im = Imputer()\n",
    "\n",
    "for x in range(1,11):\n",
    "    tree = DecisionTreeClassifier(criterion=\"gini\", max_depth= x, random_state=1)  \n",
    "    accuracy_ = []\n",
    "    for train_idx, val_idx in kfolds.split(X_dev, y_dev):\n",
    "\n",
    "        X_train, y_train, = X_dev.iloc[train_idx], y_dev.iloc[train_idx]\n",
    "        X_val, y_val = X_dev.iloc[val_idx], y_dev.iloc[val_idx] \n",
    "        \n",
    "        X_train = pd.DataFrame(im.fit_transform(X_train),index = X_train.index)\n",
    "        X_val = pd.DataFrame(im.transform(X_val), index = X_val.index)\n",
    "\n",
    "        tree.fit(X_train, y_train)\n",
    "        y_pred = tree.predict(X_val)\n",
    "        accuracy_.append(accuracy_score(y_val, y_pred))    \n",
    "    accuracy.append(accuracy_)\n",
    "temp = pd.DataFrame(accuracy).mean()\n",
    "temp.index = range(1,11)\n",
    "optimal = temp.nlargest(1)"
   ]
  },
  {
   "cell_type": "code",
   "execution_count": 109,
   "metadata": {},
   "outputs": [
    {
     "name": "stdout",
     "output_type": "stream",
     "text": [
      "0.932203389831\n"
     ]
    }
   ],
   "source": [
    "tree = DecisionTreeClassifier(criterion='gini', max_depth= optimal.index[0], random_state=1)\n",
    "\n",
    "X_test = pd.DataFrame(im.fit_transform(X_test), index= X_test.index)\n",
    "X_dev = pd.DataFrame(im.transform(X_dev), index= X_dev.index)\n",
    "\n",
    "tree.fit(X_dev, y_dev)\n",
    "predict = pd.DataFrame(tree.predict(X_test),index = y_test.index)\n",
    "print(accuracy_score(y_test, predict))"
   ]
  },
  {
   "cell_type": "code",
   "execution_count": 125,
   "metadata": {},
   "outputs": [],
   "source": [
    "#USE FOLDS TO FIND OPTIMAL HYPERPARAMETER FOR RANDOM FOREST\n",
    "from sklearn.model_selection import KFold\n",
    "from sklearn.tree import DecisionTreeClassifier\n",
    "from sklearn.ensemble import RandomForestClassifier\n",
    "from sklearn.preprocessing import Imputer\n",
    "from sklearn.metrics import accuracy_score\n",
    "kfolds = KFold(n_splits=10)\n",
    "accuracy = []\n",
    "im = Imputer()\n",
    "\n",
    "for x in range(1,11):\n",
    "    tree = RandomForestClassifier(criterion=\"gini\", max_depth= x, random_state=1, n_estimators= 100)  \n",
    "    accuracy_ = []\n",
    "    for train_idx, val_idx in kfolds.split(X_dev, y_dev):\n",
    "\n",
    "        X_train, y_train, = X_dev.iloc[train_idx], y_dev.iloc[train_idx]\n",
    "        X_val, y_val = X_dev.iloc[val_idx], y_dev.iloc[val_idx] \n",
    "        \n",
    "        X_train = pd.DataFrame(im.fit_transform(X_train),index = X_train.index)\n",
    "        X_val = pd.DataFrame(im.transform(X_val), index = X_val.index)\n",
    "\n",
    "        tree.fit(X_train, y_train.values.ravel())\n",
    "        y_pred = tree.predict(X_val)\n",
    "        accuracy_.append(accuracy_score(y_val, y_pred))    \n",
    "    accuracy.append(accuracy_)\n",
    "temp = pd.DataFrame(accuracy).mean()\n",
    "temp.index = range(1,11)\n",
    "optimal_r = temp.nlargest(1)"
   ]
  },
  {
   "cell_type": "code",
   "execution_count": 127,
   "metadata": {},
   "outputs": [
    {
     "name": "stdout",
     "output_type": "stream",
     "text": [
      "0.847457627119\n"
     ]
    },
    {
     "name": "stderr",
     "output_type": "stream",
     "text": [
      "/anaconda3/lib/python3.5/site-packages/ipykernel_launcher.py:6: DataConversionWarning: A column-vector y was passed when a 1d array was expected. Please change the shape of y to (n_samples,), for example using ravel().\n",
      "  \n"
     ]
    }
   ],
   "source": [
    "tree = RandomForestClassifier(criterion='gini', max_depth= optimal_r.index[0], random_state=1)\n",
    "\n",
    "X_test = pd.DataFrame(im.fit_transform(X_test), index= X_test.index)\n",
    "X_dev = pd.DataFrame(im.transform(X_dev), index= X_dev.index)\n",
    "\n",
    "tree.fit(X_dev, y_dev)\n",
    "predict = pd.DataFrame(tree.predict(X_test),index = y_test.index)\n",
    "print(accuracy_score(y_test, predict))"
   ]
  },
  {
   "cell_type": "code",
   "execution_count": null,
   "metadata": {},
   "outputs": [],
   "source": [
    "# THIS IS A TEST USING A DECISION TREE\n",
    "\n",
    "from sklearn import datasets\n",
    "from sklearn.model_selection import train_test_split\n",
    "from sklearn.tree import DecisionTreeClassifier\n",
    "from sklearn.metrics import accuracy_score, mean_squared_error as mse\n",
    "from sklearn.preprocessing import Imputer\n",
    "\n",
    "X_train, X_test, y_train, y_test = train_test_split(X, y, test_size=0.8, random_state=1, stratify=y)\n",
    "tree = DecisionTreeClassifier(criterion='gini', max_depth= optimal, random_state=1)\n",
    "\n",
    "#IMPUTER REPLACE MISSINGS WITH THE MEAN OF THE COLUMN\n",
    "im = Imputer()\n",
    "X_train = pd.DataFrame(im.fit_transform(X_train), index = X_train)\n",
    "X_test = pd.DataFrame(im.transform(X_test), index= X_test)\n",
    "\n",
    "# FIT AND PREDICT THE TREE\n",
    "tree.fit(X_train, y_train)\n",
    "predict = pd.DataFrame(tree.predict(X_test),index = y_test.index)\n",
    "print(accuracy_score(y_test, predict)) #This shows the accuracy of our decision tree\n",
    "print(y_test.mean()) #This shows how many not straight rows in the dataset\n",
    "print(mse(predict, y_test))"
   ]
  },
  {
   "cell_type": "code",
   "execution_count": null,
   "metadata": {},
   "outputs": [],
   "source": [
    "# THIS IS A TEST USING A DECISION TREE\n",
    "\n",
    "from sklearn import datasets\n",
    "from sklearn.model_selection import train_test_split\n",
    "from sklearn.tree import DecisionTreeClassifier\n",
    "from sklearn.metrics import accuracy_score, mean_squared_error as mse\n",
    "from sklearn.preprocessing import Imputer\n",
    "\n",
    "\n",
    "X_train, X_test, y_train, y_test = train_test_split(df_X, y, test_size=0.3, random_state=1, stratify=y)\n",
    "\n",
    "errors = []\n",
    "accuracy = []\n",
    "\n",
    "for i in [\"entropy\", \"gini\"]:\n",
    "    errors_ = []\n",
    "    accuracy_ = []\n",
    "    for x in range(1,10):\n",
    "\n",
    "        tree = DecisionTreeClassifier(criterion=i, max_depth= x, random_state=1)\n",
    "\n",
    "        #IMPUTER REPLACE MISSINGS WITH THE MEAN OF THE COLUMN\n",
    "        im = Imputer()\n",
    "        X_train = im.fit_transform(X_train)\n",
    "        X_test = im.transform(X_test)\n",
    "\n",
    "        # FIT AND PREDICT THE TREE\n",
    "        tree.fit(X_train, y_train)\n",
    "        predict = pd.DataFrame(tree.predict(X_test),index = y_test.index)\n",
    "        accuracy_.append(accuracy_score(y_test, predict)) #This shows the accuracy of our decision tree #This shows how many not straight rows in the dataset\n",
    "        errors_.append(mse(predict, y_test)**(1/2))\n",
    "    errors.append(errors_)\n",
    "    accuracy.append(accuracy_)"
   ]
  },
  {
   "cell_type": "code",
   "execution_count": null,
   "metadata": {},
   "outputs": [],
   "source": [
    "from sklearn import datasets\n",
    "from sklearn.model_selection import train_test_split\n",
    "from sklearn.tree import DecisionTreeClassifier\n",
    "from sklearn.metrics import accuracy_score, mean_squared_error as mse\n",
    "from sklearn.preprocessing import Imputer\n",
    "from sklearn.ensemble import RandomForestClassifier\n",
    "\n",
    "\n",
    "X_train, X_test, y_train, y_test = train_test_split(df_X, y, test_size=0.3, random_state=1, stratify=y)\n",
    "\n",
    "errors = []\n",
    "accuracy = []\n",
    "\n",
    "for i in [\"entropy\", \"gini\"]:\n",
    "    errors_ = []\n",
    "    accuracy_ = []\n",
    "    for x in range(1,10):\n",
    "\n",
    "        tree = RandomForestClassifier(criterion=i, max_depth= x, random_state=1, n_estimators = 100)\n",
    "\n",
    "        #IMPUTER REPLACE MISSINGS WITH THE MEAN OF THE COLUMN\n",
    "        im = Imputer()\n",
    "        X_train = im.fit_transform(X_train)\n",
    "        X_test = im.transform(X_test)\n",
    "\n",
    "        # FIT AND PREDICT THE TREE\n",
    "        tree.fit(X_train, y_train.values.ravel())\n",
    "        predict = pd.DataFrame(tree.predict(X_test),index = y_test.index)\n",
    "        accuracy_.append(accuracy_score(y_test, predict)) #This shows the accuracy of our decision tree #This shows how many not straight rows in the dataset\n",
    "        errors_.append(mse(predict, y_test)**(1/2))\n",
    "    errors.append(errors_)\n",
    "    accuracy.append(accuracy_)"
   ]
  },
  {
   "cell_type": "code",
   "execution_count": null,
   "metadata": {},
   "outputs": [],
   "source": [
    "predict"
   ]
  },
  {
   "cell_type": "code",
   "execution_count": null,
   "metadata": {},
   "outputs": [],
   "source": [
    "#pd.DataFrame(errors[0]).plot()"
   ]
  },
  {
   "cell_type": "code",
   "execution_count": null,
   "metadata": {},
   "outputs": [],
   "source": [
    "accuracy[0]"
   ]
  },
  {
   "cell_type": "code",
   "execution_count": null,
   "metadata": {},
   "outputs": [],
   "source": [
    "pd.DataFrame(accuracy[0]).plot()"
   ]
  },
  {
   "cell_type": "code",
   "execution_count": null,
   "metadata": {},
   "outputs": [],
   "source": [
    "pd.DataFrame(accuracy[1]).plot()"
   ]
  },
  {
   "cell_type": "code",
   "execution_count": null,
   "metadata": {},
   "outputs": [],
   "source": []
  },
  {
   "cell_type": "code",
   "execution_count": null,
   "metadata": {},
   "outputs": [],
   "source": []
  },
  {
   "cell_type": "code",
   "execution_count": null,
   "metadata": {},
   "outputs": [],
   "source": []
  },
  {
   "cell_type": "code",
   "execution_count": null,
   "metadata": {},
   "outputs": [],
   "source": []
  },
  {
   "cell_type": "code",
   "execution_count": null,
   "metadata": {},
   "outputs": [],
   "source": []
  },
  {
   "cell_type": "code",
   "execution_count": null,
   "metadata": {},
   "outputs": [],
   "source": []
  },
  {
   "cell_type": "code",
   "execution_count": null,
   "metadata": {},
   "outputs": [],
   "source": []
  },
  {
   "cell_type": "code",
   "execution_count": null,
   "metadata": {},
   "outputs": [],
   "source": []
  },
  {
   "cell_type": "code",
   "execution_count": null,
   "metadata": {},
   "outputs": [],
   "source": []
  }
 ],
 "metadata": {
  "kernelspec": {
   "display_name": "Python 3",
   "language": "python",
   "name": "python3"
  },
  "language_info": {
   "codemirror_mode": {
    "name": "ipython",
    "version": 3
   },
   "file_extension": ".py",
   "mimetype": "text/x-python",
   "name": "python",
   "nbconvert_exporter": "python",
   "pygments_lexer": "ipython3",
   "version": "3.5.5"
  }
 },
 "nbformat": 4,
 "nbformat_minor": 2
}
