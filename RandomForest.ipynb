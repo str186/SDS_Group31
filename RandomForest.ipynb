{
 "cells": [
  {
   "cell_type": "code",
   "execution_count": 2,
   "metadata": {},
   "outputs": [],
   "source": [
    "# Import packages\n",
    "\n",
    "import pandas as pd\n",
    "import seaborn as sns\n",
    "import numpy as np\n",
    "import matplotlib.pyplot as plt\n",
    "import random"
   ]
  },
  {
   "cell_type": "markdown",
   "metadata": {},
   "source": [
    "### LOAD A RANDOM SAMPLE OF THE DATA"
   ]
  },
  {
   "cell_type": "code",
   "execution_count": 4,
   "metadata": {},
   "outputs": [],
   "source": [
    "# TAKE A SAMPLE OF DATA\n",
    "filename = 'C:/Users/tomas/Documents/socialdatascience/user_data_public.csv'\n",
    "n = sum(1 for line in open(filename)) - 1 #number of records in file (excludes header)\n",
    "s = 1000 #desired sample size\n",
    "skip = sorted(random.sample(range(1,n+1),n-s)) #the 0-indexed header will not be included in the skip list\n",
    "\n",
    "df_master = pd.read_csv(filename, header='infer', skiprows=skip, dtype = object)\n"
   ]
  },
  {
   "cell_type": "code",
   "execution_count": 5,
   "metadata": {},
   "outputs": [],
   "source": [
    "#IMPORTANT : THIS IS IN EXCEL FORMAT, CHANGE TO CSV IF YOUR FILE IS NOT XLSX\n",
    "df_q_list = pd.read_excel(\"C:/Users/tomas/Documents/socialdatascience/question_data.xlsx\")"
   ]
  },
  {
   "cell_type": "code",
   "execution_count": 6,
   "metadata": {},
   "outputs": [],
   "source": [
    "#Count not missing each row i.e: number of answered questions by each preson:\n",
    "df_master[\"answered_questions\"] = df_master.notnull().sum(axis=1)\n",
    "\n",
    "# Take only questions with n answers and put the questions in a column\n",
    "#df_q.N.plot(kind=\"hist\")\n",
    "\n",
    "n_answers = 20000\n",
    "df_keep = pd.DataFrame()\n",
    "df_keep['keep_questions'] = df_q_list[df_q_list['N']>n_answers].index"
   ]
  },
  {
   "cell_type": "code",
   "execution_count": 7,
   "metadata": {},
   "outputs": [],
   "source": [
    "#Keep only questions that are also in master dataframe\n",
    "df_keep = df_keep[df_keep[\"keep_questions\"].isin(list(df_master.columns.values))]\n",
    "\n",
    "#Choose only rows with at least 1000 answered questions\n",
    "df_clean_question = df_master[df_master[\"answered_questions\"]>1000]\n",
    "\n",
    "#Create new dataset with only most answered questions\n",
    "df_clean_v1 = df_clean_question[list(df_keep[\"keep_questions\"])]"
   ]
  },
  {
   "cell_type": "code",
   "execution_count": 8,
   "metadata": {},
   "outputs": [
    {
     "name": "stdout",
     "output_type": "stream",
     "text": [
      "\n"
     ]
    },
    {
     "name": "stderr",
     "output_type": "stream",
     "text": [
      "C:\\Users\\tomas\\Anaconda3\\lib\\site-packages\\pandas\\core\\frame.py:3694: SettingWithCopyWarning: \n",
      "A value is trying to be set on a copy of a slice from a DataFrame\n",
      "\n",
      "See the caveats in the documentation: http://pandas.pydata.org/pandas-docs/stable/indexing.html#indexing-view-versus-copy\n",
      "  errors=errors)\n"
     ]
    }
   ],
   "source": [
    "\n",
    "#Create dummy for sexual orientation, where 1 = NOT STRAIGHT#Create \n",
    "sexual_orientation = []\n",
    "for x in df_clean_v1['d_orientation']:\n",
    "    if pd.isnull(x):\n",
    "        sexual_orientation.append(1) #Since we have persons answered over a 1000 questions, so if they have not answered their sexual orientation we assume they are either uncertain or dont want to disclose because of fear of persecution/judgement from peers\n",
    "    elif x != \"Straight\":\n",
    "        sexual_orientation.append(1)\n",
    "    else:\n",
    "        sexual_orientation.append(0)\n",
    "\n",
    "#Turn it into a dataframe and put labels from dataframe on\n",
    "y = pd.DataFrame(sexual_orientation, index = df_clean_v1.index)\n",
    "\n",
    "# Drop sexual orientation from master dataframe\n",
    "df_clean_v1.drop(columns = [\"d_orientation\"], inplace = True)\n",
    "print()"
   ]
  },
  {
   "cell_type": "code",
   "execution_count": 9,
   "metadata": {},
   "outputs": [],
   "source": [
    "#Remove the most problematic questions, and them make all of the categorical variables dummiew\n",
    "df_prep = df_clean_v1.drop(columns = [\"q546\", \"q1040\"])\n",
    "df_dummy = pd.get_dummies(df_prep, dummy_na = False) #When missing giver 0 to all dummies created for the quesion with the missing value\n",
    "#df_dummy.fillna(value = -1, inplace = True) #If missing insert -1 # This code does not work\n",
    "X = df_dummy\n",
    "\n",
    "#INSERT MISSING VALUES BACK INTO THE DUMMIES FOR LATER IMPUTER\n",
    "for i in list(df_keep[\"keep_questions\"].head()):\n",
    "    X.loc[df_prep[i].isnull(), X.columns.str.startswith(i+\"_\")] = np.nan"
   ]
  },
  {
   "cell_type": "code",
   "execution_count": 10,
   "metadata": {},
   "outputs": [],
   "source": [
    "from sklearn import datasets\n",
    "from sklearn.model_selection import train_test_split\n",
    "from sklearn.tree import DecisionTreeClassifier\n",
    "from sklearn.metrics import accuracy_score\n",
    "from sklearn.preprocessing import Imputer\n",
    "\n",
    "X_train, X_test, y_train, y_test = train_test_split(X, y, test_size=0.3, random_state=1, stratify=y)\n"
   ]
  },
  {
   "cell_type": "markdown",
   "metadata": {},
   "source": [
    "### THIS IS A TEST USING A DECISION TREE"
   ]
  },
  {
   "cell_type": "code",
   "execution_count": 30,
   "metadata": {},
   "outputs": [
    {
     "name": "stdout",
     "output_type": "stream",
     "text": [
      "0.8969072164948454\n",
      "0    0.164948\n",
      "dtype: float64\n"
     ]
    }
   ],
   "source": [
    "#IMPUTER REPLACE MISSINGS WITH THE MEAN OF THE COLUMN\n",
    "\n",
    "tree = DecisionTreeClassifier(criterion='gini', max_depth= 4, random_state=1)\n",
    "\n",
    "im = Imputer()\n",
    "X_train = im.fit_transform(X_train)\n",
    "X_test = im.fit_transform(X_test)\n",
    "\n",
    "# FIT AND PREDICT THE TREE\n",
    "tree.fit(X_train, y_train)\n",
    "tree_predict = pd.DataFrame(tree.predict(X_test),index = y_test.index)\n",
    "\n",
    "print(accuracy_score(y_test, tree_predict)) #This shows the accuracy of our decision tree\n",
    "print(y_test.mean()) #This shows how many not straight rows in the dataset"
   ]
  },
  {
   "cell_type": "markdown",
   "metadata": {},
   "source": [
    "### Testing a Random Forest Classifier"
   ]
  },
  {
   "cell_type": "code",
   "execution_count": 31,
   "metadata": {},
   "outputs": [
    {
     "name": "stdout",
     "output_type": "stream",
     "text": [
      "0.845360824742268\n",
      "0    0.164948\n",
      "dtype: float64\n"
     ]
    }
   ],
   "source": [
    "from sklearn.ensemble import RandomForestClassifier\n",
    "\n",
    "## This is a test with DEFAULT values\n",
    "\n",
    "rf = RandomForestClassifier(random_state=1)\n",
    "\n",
    "# FIT AND PREDICT THE TREE\n",
    "rf.fit(X_train, y_train.values.ravel())\n",
    "forest_predict = pd.DataFrame(rf.predict(X_test),index = y_test.index)\n",
    "print(accuracy_score(y_test, forest_predict)) #This shows the accuracy of our decision tree\n",
    "print(y_test.mean()) #This shows how many not straight rows in the dataset"
   ]
  },
  {
   "cell_type": "code",
   "execution_count": 65,
   "metadata": {},
   "outputs": [],
   "source": [
    "# THIS GIVES YOU CLASS PROBABILITIES, WHATEVER THE HELL THAT IS\n",
    "\n",
    "tprob = tree.predict_proba(X_train)\n",
    "rfprob = clf_rf.predict_proba(X_train)"
   ]
  },
  {
   "cell_type": "code",
   "execution_count": 68,
   "metadata": {},
   "outputs": [
    {
     "name": "stdout",
     "output_type": "stream",
     "text": [
      "In-sample prediction accuracy:  0.9821428571428571\n",
      "Out-of-sample prediction accuracy:  0.845360824742268\n"
     ]
    }
   ],
   "source": [
    "## Returns the mean accuracy on the given test data and labels.\n",
    "\n",
    "print(\"In-sample prediction accuracy: \", rf.score(X_train, y_train))\n",
    "print(\"Out-of-sample prediction accuracy: \", rf.score(X_test, y_test))"
   ]
  },
  {
   "cell_type": "code",
   "execution_count": 71,
   "metadata": {},
   "outputs": [
    {
     "data": {
      "text/plain": [
       "<matplotlib.collections.PathCollection at 0x2644c764048>"
      ]
     },
     "execution_count": 71,
     "metadata": {},
     "output_type": "execute_result"
    },
    {
     "data": {
      "image/png": "[encoded data removed]",
      "text/plain": [
       "<Figure size 576x576 with 1 Axes>"
      ]
     },
     "metadata": {},
     "output_type": "display_data"
    }
   ],
   "source": [
    "# fig, ax = plt.subplots(1,1,figsize=(8,8))\n",
    "\n",
    "# ax.scatter(tprob[:,0], rfprob[:,0])\n",
    "#ax.plot(tprob[1])"
   ]
  },
  {
   "cell_type": "code",
   "execution_count": 135,
   "metadata": {},
   "outputs": [
    {
     "ename": "IndexError",
     "evalue": "index 10 is out of bounds for axis 1 with size 10",
     "output_type": "error",
     "traceback": [
      "\u001b[1;31m---------------------------------------------------------------------------\u001b[0m",
      "\u001b[1;31mIndexError\u001b[0m                                Traceback (most recent call last)",
      "\u001b[1;32m<ipython-input-135-f0d2010ab601>\u001b[0m in \u001b[0;36m<module>\u001b[1;34m()\u001b[0m\n\u001b[0;32m     18\u001b[0m         \u001b[0mforest_predict\u001b[0m \u001b[1;33m=\u001b[0m \u001b[0mpd\u001b[0m\u001b[1;33m.\u001b[0m\u001b[0mDataFrame\u001b[0m\u001b[1;33m(\u001b[0m\u001b[0mrf\u001b[0m\u001b[1;33m.\u001b[0m\u001b[0mpredict\u001b[0m\u001b[1;33m(\u001b[0m\u001b[0mX_test\u001b[0m\u001b[1;33m)\u001b[0m\u001b[1;33m,\u001b[0m\u001b[0mindex\u001b[0m \u001b[1;33m=\u001b[0m \u001b[0my_test\u001b[0m\u001b[1;33m.\u001b[0m\u001b[0mindex\u001b[0m\u001b[1;33m)\u001b[0m\u001b[1;33m\u001b[0m\u001b[0m\n\u001b[0;32m     19\u001b[0m \u001b[1;33m\u001b[0m\u001b[0m\n\u001b[1;32m---> 20\u001b[1;33m         \u001b[0macc\u001b[0m\u001b[1;33m[\u001b[0m\u001b[0mi\u001b[0m\u001b[1;33m,\u001b[0m\u001b[0mx\u001b[0m\u001b[1;33m]\u001b[0m \u001b[1;33m=\u001b[0m \u001b[1;33m(\u001b[0m\u001b[0maccuracy_score\u001b[0m\u001b[1;33m(\u001b[0m\u001b[0my_test\u001b[0m\u001b[1;33m,\u001b[0m \u001b[0mforest_predict\u001b[0m\u001b[1;33m)\u001b[0m\u001b[1;33m)\u001b[0m \u001b[1;31m#This shows the accuracy of our decision tree\u001b[0m\u001b[1;33m\u001b[0m\u001b[0m\n\u001b[0m\u001b[0;32m     21\u001b[0m         \u001b[0merrors\u001b[0m\u001b[1;33m[\u001b[0m\u001b[0mi\u001b[0m\u001b[1;33m,\u001b[0m\u001b[0mx\u001b[0m\u001b[1;33m]\u001b[0m \u001b[1;33m=\u001b[0m \u001b[1;33m(\u001b[0m\u001b[0mmse\u001b[0m\u001b[1;33m(\u001b[0m\u001b[0mforest_predict\u001b[0m\u001b[1;33m,\u001b[0m \u001b[0my_test\u001b[0m\u001b[1;33m)\u001b[0m\u001b[1;33m)\u001b[0m\u001b[1;33m\u001b[0m\u001b[0m\n\u001b[0;32m     22\u001b[0m \u001b[1;33m\u001b[0m\u001b[0m\n",
      "\u001b[1;31mIndexError\u001b[0m: index 10 is out of bounds for axis 1 with size 10"
     ]
    }
   ],
   "source": [
    "## NOW, TRY TESTING FOR DIFFERENT PARAMETERS:\n",
    "\n",
    "from sklearn.metrics import mean_squared_error as mse\n",
    "\n",
    "acc = np.empty((10,10))\n",
    "errors = np.empty((10,10))\n",
    "\n",
    "max_depth = range(1,11)\n",
    "n_estimators = range(1,11)\n",
    "\n",
    "for i in max_depth:\n",
    "    for x in n_estimators:\n",
    "\n",
    "        rf = RandomForestClassifier(random_state=1, max_depth=i, n_estimators=x)\n",
    "\n",
    "        # FIT AND PREDICT THE TREE\n",
    "        rf.fit(X_train, y_train.values.ravel())\n",
    "        forest_predict = pd.DataFrame(rf.predict(X_test),index = y_test.index)\n",
    "\n",
    "        acc[i,x] = (accuracy_score(y_test, forest_predict)) #This shows the accuracy of our decision tree\n",
    "        errors[i,x] = (mse(forest_predict, y_test))\n",
    "\n",
    "print(y_test.mean()) #This shows how many not straight rows in the dataset"
   ]
  },
  {
   "cell_type": "code",
   "execution_count": 136,
   "metadata": {},
   "outputs": [
    {
     "ename": "IndexError",
     "evalue": "index 10 is out of bounds for axis 0 with size 10",
     "output_type": "error",
     "traceback": [
      "\u001b[1;31m---------------------------------------------------------------------------\u001b[0m",
      "\u001b[1;31mIndexError\u001b[0m                                Traceback (most recent call last)",
      "\u001b[1;32m<ipython-input-136-8400b908870d>\u001b[0m in \u001b[0;36m<module>\u001b[1;34m()\u001b[0m\n\u001b[1;32m----> 1\u001b[1;33m \u001b[0macc\u001b[0m\u001b[1;33m[\u001b[0m\u001b[1;36m10\u001b[0m\u001b[1;33m,\u001b[0m\u001b[1;36m10\u001b[0m\u001b[1;33m]\u001b[0m\u001b[1;33m\u001b[0m\u001b[0m\n\u001b[0m",
      "\u001b[1;31mIndexError\u001b[0m: index 10 is out of bounds for axis 0 with size 10"
     ]
    }
   ],
   "source": [
    "acc[10,10]"
   ]
  },
  {
   "cell_type": "code",
   "execution_count": 127,
   "metadata": {},
   "outputs": [
    {
     "name": "stdout",
     "output_type": "stream",
     "text": [
      "[[ 0.00000000e+000  7.72688307e-315  3.71537366e-321              nan\n",
      "  -3.72989430e-303  0.00000000e+000  4.36515493e-095  1.39030923e+093\n",
      "   3.11065042e+088  8.83512175e+025]\n",
      " [ 1.42511465e+064  8.35051546e-001  8.35051546e-001  8.35051546e-001\n",
      "   8.35051546e-001  8.35051546e-001  8.35051546e-001  8.35051546e-001\n",
      "   8.35051546e-001  8.35051546e-001]\n",
      " [ 7.52736939e+252  1.96265966e+243  3.74168445e+233  2.03537408e-110\n",
      "   7.98071486e+151  2.17236061e-153  8.03272539e-096  2.03789008e+180\n",
      "   1.67791843e+243  1.69201539e+190]\n",
      " [ 9.15531747e+135  2.45886213e+198  7.98071334e+151  4.08149543e+223\n",
      "   2.19993033e-152  2.03781299e+180  1.67791843e+243  6.12743633e-154\n",
      "   3.08068367e+185  3.87204162e+228]\n",
      " [ 9.21020653e+016  3.29368402e+180  1.38519249e+219  1.66377202e-071\n",
      "   2.64180602e+180  2.92314468e+222  3.99281087e+252  4.07192861e+223\n",
      "   6.01347002e-154  6.05206351e-153]\n",
      " [ 7.86625803e+020  3.17464775e-153  6.12743542e-154  3.08068367e+185\n",
      "   3.59067329e+252  8.22461583e+151  3.11850255e+161  1.71673254e+262\n",
      "   1.81148198e-152  8.56486050e+183]\n",
      " [ 1.74679260e+243  2.17237419e-153  1.10631729e+031  3.61067849e-085\n",
      "   8.27910206e-114  5.95857685e-096  2.17237876e-153  4.55306799e+198\n",
      "   1.76534635e+137  6.01347002e-154]\n",
      " [ 4.06874355e+233  2.91114494e+257  3.68622140e+228  7.50043588e+247\n",
      "   7.49778961e+247  7.66632853e+170  5.81949566e+199  2.32300985e-152\n",
      "   2.91114487e+257  1.33856865e-152]\n",
      " [ 4.63960108e+199  4.78584893e+180  6.01347002e-154  1.67751549e+243\n",
      "   6.01433277e+175  1.67495476e+243  4.24360147e+175  3.60542575e+252\n",
      "   1.76534607e+137  1.81147375e-152]\n",
      " [ 8.82142681e+199  7.50043588e+247  2.03177649e-110  2.31647091e-152\n",
      "   4.57241630e+228  2.97752113e+222  4.17340112e+199  1.63857986e+248\n",
      "   1.27734658e-152  1.04537782e-142]]\n",
      "\n",
      "[[6.03134849e+127 6.73420428e+275 1.94770447e+089 5.40503608e-056\n",
      "  1.66538156e+031 8.48951500e+232 3.94267440e+160 4.81974821e+016\n",
      "  3.99549875e+252 1.65477292e-066]\n",
      " [3.13497253e+049 1.64948454e-001 1.64948454e-001 1.64948454e-001\n",
      "  1.64948454e-001 1.64948454e-001 1.64948454e-001 1.64948454e-001\n",
      "  1.64948454e-001 1.64948454e-001]\n",
      " [2.71044014e+189 1.44614478e-046 6.89795152e+088 3.94994960e+126\n",
      "  7.93344054e+069 1.04641419e+171 1.44530896e+214 4.80006881e+160\n",
      "  6.51099868e+049 6.70461761e+063]\n",
      " [1.32164453e+040 2.72460084e-051 1.98337370e+079 1.15957732e+253\n",
      "  4.29409204e+184 3.37061711e+203 5.27187315e+127 9.61894723e+049\n",
      "  1.46003756e+089 6.49591554e+175]\n",
      " [1.27866351e+026 1.47365465e+223 8.27011623e+073 4.06522157e+228\n",
      "  4.32406898e+242 1.08494672e-071 3.25193099e+083 2.01962176e-032\n",
      "  3.39843864e+083 1.32089993e+223]\n",
      " [1.69267893e+069 2.94358940e+190 1.58465223e-076 1.42932191e+248\n",
      "  2.25570434e+271 6.50351242e+256 3.01857091e-066 2.42086814e+054\n",
      "  4.83985111e+088 1.44415940e+160]\n",
      " [2.21523237e+112 6.12838967e-043 8.81136531e+170 2.70499539e+189\n",
      "  8.30414621e+039 6.96654188e+098 3.28281288e+228 4.03176173e-047\n",
      "  1.21922660e+007 5.42459810e+054]\n",
      " [1.78484561e+021 3.59442504e-032 1.98227016e+031 5.93088004e+092\n",
      "  2.52689987e+079 2.01305804e+011 3.73705549e-057 9.20477972e+247\n",
      "  6.21277341e+189 8.40820108e-062]\n",
      " [6.53047513e-032 6.63010597e+237 6.31377221e+127 2.30182015e+175\n",
      "  3.02084319e+209 3.98645738e+165 2.39935583e+276 3.48617819e+232\n",
      "  8.08917213e+228 2.01913311e-076]\n",
      " [1.19938592e+233 4.97861481e+068 8.18320186e+247 2.13007103e+218\n",
      "  3.25159442e+213 2.03982878e+113 3.93375008e+160 3.50323801e+103\n",
      "  4.96247647e+208 1.41017721e+103]]\n"
     ]
    }
   ],
   "source": [
    "print(acc)\n",
    "print()\n",
    "print(errors)"
   ]
  },
  {
   "cell_type": "code",
   "execution_count": 128,
   "metadata": {},
   "outputs": [
    {
     "data": {
      "text/plain": [
       "[<matplotlib.lines.Line2D at 0x2644a404be0>,\n",
       " <matplotlib.lines.Line2D at 0x2644a432e10>,\n",
       " <matplotlib.lines.Line2D at 0x2644a432f60>,\n",
       " <matplotlib.lines.Line2D at 0x2644a4390f0>,\n",
       " <matplotlib.lines.Line2D at 0x2644a439240>,\n",
       " <matplotlib.lines.Line2D at 0x2644a439390>,\n",
       " <matplotlib.lines.Line2D at 0x2644a4394e0>,\n",
       " <matplotlib.lines.Line2D at 0x2644a439630>,\n",
       " <matplotlib.lines.Line2D at 0x2644a439780>,\n",
       " <matplotlib.lines.Line2D at 0x2644a4398d0>]"
      ]
     },
     "execution_count": 128,
     "metadata": {},
     "output_type": "execute_result"
    },
    {
     "data": {
      "image/png": "[encoded data removed]",
      "text/plain": [
       "<Figure size 432x288 with 1 Axes>"
      ]
     },
     "metadata": {},
     "output_type": "display_data"
    }
   ],
   "source": [
    "fig, ax =  plt.subplots(1,1)\n",
    "\n",
    "plt.plot(errors)\n",
    "plt.plot(acc)"
   ]
  },
  {
   "cell_type": "code",
   "execution_count": 130,
   "metadata": {},
   "outputs": [
    {
     "ename": "ValueError",
     "evalue": "shape mismatch: objects cannot be broadcast to a single shape",
     "output_type": "error",
     "traceback": [
      "\u001b[1;31m---------------------------------------------------------------------------\u001b[0m",
      "\u001b[1;31mValueError\u001b[0m                                Traceback (most recent call last)",
      "\u001b[1;32m<ipython-input-130-660618bc30ef>\u001b[0m in \u001b[0;36m<module>\u001b[1;34m()\u001b[0m\n\u001b[0;32m      4\u001b[0m \u001b[0max\u001b[0m \u001b[1;33m=\u001b[0m \u001b[0mAxes3D\u001b[0m\u001b[1;33m(\u001b[0m\u001b[0mfig\u001b[0m\u001b[1;33m)\u001b[0m\u001b[1;33m\u001b[0m\u001b[0m\n\u001b[0;32m      5\u001b[0m \u001b[1;33m\u001b[0m\u001b[0m\n\u001b[1;32m----> 6\u001b[1;33m \u001b[0max\u001b[0m\u001b[1;33m.\u001b[0m\u001b[0mscatter\u001b[0m\u001b[1;33m(\u001b[0m\u001b[0mmax_depth\u001b[0m\u001b[1;33m,\u001b[0m \u001b[0mn_estimators\u001b[0m\u001b[1;33m,\u001b[0m \u001b[0macc\u001b[0m\u001b[1;33m)\u001b[0m\u001b[1;33m\u001b[0m\u001b[0m\n\u001b[0m",
      "\u001b[1;32m~\\Anaconda3\\lib\\site-packages\\mpl_toolkits\\mplot3d\\axes3d.py\u001b[0m in \u001b[0;36mscatter\u001b[1;34m(self, xs, ys, zs, zdir, s, c, depthshade, *args, **kwargs)\u001b[0m\n\u001b[0;32m   2354\u001b[0m \u001b[1;33m\u001b[0m\u001b[0m\n\u001b[0;32m   2355\u001b[0m         xs, ys, zs = np.broadcast_arrays(\n\u001b[1;32m-> 2356\u001b[1;33m             *[np.ravel(np.ma.filled(t, np.nan)) for t in [xs, ys, zs]])\n\u001b[0m\u001b[0;32m   2357\u001b[0m         \u001b[0ms\u001b[0m \u001b[1;33m=\u001b[0m \u001b[0mnp\u001b[0m\u001b[1;33m.\u001b[0m\u001b[0mma\u001b[0m\u001b[1;33m.\u001b[0m\u001b[0mravel\u001b[0m\u001b[1;33m(\u001b[0m\u001b[0ms\u001b[0m\u001b[1;33m)\u001b[0m  \u001b[1;31m# This doesn't have to match x, y in size.\u001b[0m\u001b[1;33m\u001b[0m\u001b[0m\n\u001b[0;32m   2358\u001b[0m \u001b[1;33m\u001b[0m\u001b[0m\n",
      "\u001b[1;32m~\\Anaconda3\\lib\\site-packages\\numpy\\lib\\stride_tricks.py\u001b[0m in \u001b[0;36mbroadcast_arrays\u001b[1;34m(*args, **kwargs)\u001b[0m\n\u001b[0;32m    247\u001b[0m     \u001b[0margs\u001b[0m \u001b[1;33m=\u001b[0m \u001b[1;33m[\u001b[0m\u001b[0mnp\u001b[0m\u001b[1;33m.\u001b[0m\u001b[0marray\u001b[0m\u001b[1;33m(\u001b[0m\u001b[0m_m\u001b[0m\u001b[1;33m,\u001b[0m \u001b[0mcopy\u001b[0m\u001b[1;33m=\u001b[0m\u001b[1;32mFalse\u001b[0m\u001b[1;33m,\u001b[0m \u001b[0msubok\u001b[0m\u001b[1;33m=\u001b[0m\u001b[0msubok\u001b[0m\u001b[1;33m)\u001b[0m \u001b[1;32mfor\u001b[0m \u001b[0m_m\u001b[0m \u001b[1;32min\u001b[0m \u001b[0margs\u001b[0m\u001b[1;33m]\u001b[0m\u001b[1;33m\u001b[0m\u001b[0m\n\u001b[0;32m    248\u001b[0m \u001b[1;33m\u001b[0m\u001b[0m\n\u001b[1;32m--> 249\u001b[1;33m     \u001b[0mshape\u001b[0m \u001b[1;33m=\u001b[0m \u001b[0m_broadcast_shape\u001b[0m\u001b[1;33m(\u001b[0m\u001b[1;33m*\u001b[0m\u001b[0margs\u001b[0m\u001b[1;33m)\u001b[0m\u001b[1;33m\u001b[0m\u001b[0m\n\u001b[0m\u001b[0;32m    250\u001b[0m \u001b[1;33m\u001b[0m\u001b[0m\n\u001b[0;32m    251\u001b[0m     \u001b[1;32mif\u001b[0m \u001b[0mall\u001b[0m\u001b[1;33m(\u001b[0m\u001b[0marray\u001b[0m\u001b[1;33m.\u001b[0m\u001b[0mshape\u001b[0m \u001b[1;33m==\u001b[0m \u001b[0mshape\u001b[0m \u001b[1;32mfor\u001b[0m \u001b[0marray\u001b[0m \u001b[1;32min\u001b[0m \u001b[0margs\u001b[0m\u001b[1;33m)\u001b[0m\u001b[1;33m:\u001b[0m\u001b[1;33m\u001b[0m\u001b[0m\n",
      "\u001b[1;32m~\\Anaconda3\\lib\\site-packages\\numpy\\lib\\stride_tricks.py\u001b[0m in \u001b[0;36m_broadcast_shape\u001b[1;34m(*args)\u001b[0m\n\u001b[0;32m    182\u001b[0m     \u001b[1;31m# use the old-iterator because np.nditer does not handle size 0 arrays\u001b[0m\u001b[1;33m\u001b[0m\u001b[1;33m\u001b[0m\u001b[0m\n\u001b[0;32m    183\u001b[0m     \u001b[1;31m# consistently\u001b[0m\u001b[1;33m\u001b[0m\u001b[1;33m\u001b[0m\u001b[0m\n\u001b[1;32m--> 184\u001b[1;33m     \u001b[0mb\u001b[0m \u001b[1;33m=\u001b[0m \u001b[0mnp\u001b[0m\u001b[1;33m.\u001b[0m\u001b[0mbroadcast\u001b[0m\u001b[1;33m(\u001b[0m\u001b[1;33m*\u001b[0m\u001b[0margs\u001b[0m\u001b[1;33m[\u001b[0m\u001b[1;33m:\u001b[0m\u001b[1;36m32\u001b[0m\u001b[1;33m]\u001b[0m\u001b[1;33m)\u001b[0m\u001b[1;33m\u001b[0m\u001b[0m\n\u001b[0m\u001b[0;32m    185\u001b[0m     \u001b[1;31m# unfortunately, it cannot handle 32 or more arguments directly\u001b[0m\u001b[1;33m\u001b[0m\u001b[1;33m\u001b[0m\u001b[0m\n\u001b[0;32m    186\u001b[0m     \u001b[1;32mfor\u001b[0m \u001b[0mpos\u001b[0m \u001b[1;32min\u001b[0m \u001b[0mrange\u001b[0m\u001b[1;33m(\u001b[0m\u001b[1;36m32\u001b[0m\u001b[1;33m,\u001b[0m \u001b[0mlen\u001b[0m\u001b[1;33m(\u001b[0m\u001b[0margs\u001b[0m\u001b[1;33m)\u001b[0m\u001b[1;33m,\u001b[0m \u001b[1;36m31\u001b[0m\u001b[1;33m)\u001b[0m\u001b[1;33m:\u001b[0m\u001b[1;33m\u001b[0m\u001b[0m\n",
      "\u001b[1;31mValueError\u001b[0m: shape mismatch: objects cannot be broadcast to a single shape"
     ]
    },
    {
     "data": {
      "image/png": "[encoded data removed]",
      "text/plain": [
       "<Figure size 432x288 with 1 Axes>"
      ]
     },
     "metadata": {},
     "output_type": "display_data"
    }
   ],
   "source": [
    "from mpl_toolkits.mplot3d import Axes3D\n",
    "\n",
    "fig = plt.figure()\n",
    "ax = Axes3D(fig)\n",
    "\n",
    "ax.plot(acc, errors)"
   ]
  },
  {
   "cell_type": "code",
   "execution_count": null,
   "metadata": {},
   "outputs": [],
   "source": []
  }
 ],
 "metadata": {
  "kernelspec": {
   "display_name": "Python 3",
   "language": "python",
   "name": "python3"
  },
  "language_info": {
   "codemirror_mode": {
    "name": "ipython",
    "version": 3
   },
   "file_extension": ".py",
   "mimetype": "text/x-python",
   "name": "python",
   "nbconvert_exporter": "python",
   "pygments_lexer": "ipython3",
   "version": "3.6.5"
  }
 },
 "nbformat": 4,
 "nbformat_minor": 2
}
