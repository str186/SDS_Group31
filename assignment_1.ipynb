{
 "cells": [
  {
   "cell_type": "markdown",
   "metadata": {},
   "source": [
    "# Mandatory Assignment 1\n",
    "\n",
    "This is the first of two mandatory assignments which must be completed during the course. First some practical information:\n",
    "\n",
    "* When is the assignment due?: **23:59, Sunday, August 19, 2018.**\n",
    "* How do you grade the assignment?: You will **peergrade** each other as primary grading. \n",
    "* Must I hand-in as a group?: **yes**\n",
    "\n",
    "The assigment consist of one to three problems from each of the exercise sets you have solved so far (excluding Exercise Set 1). We've tried to select problems which are self contained, but it might be nessecary to solve some of the previous exercises in each set to fully answer the problems in this assignment.\n",
    "\n",
    "## Problems from Exercise Set 2:\n",
    "\n",
    "> **Ex. 2.2**: Make two lists. The first should be numbered. The second should be unnumbered and contain at least one sublevel. "
   ]
  },
  {
   "cell_type": "code",
   "execution_count": null,
   "metadata": {},
   "outputs": [],
   "source": [
    "# [Answer to Ex. 2.2 here] (convert to markdown cell)"
   ]
  },
  {
   "cell_type": "markdown",
   "metadata": {},
   "source": [
    "1. item\n",
    "2. item\n",
    "\n",
    "\n",
    "\n",
    "- item 1\n",
    "    - item 2"
   ]
  },
  {
   "cell_type": "markdown",
   "metadata": {},
   "source": [
    "## Problems from Exercise set 3:\n",
    "\n",
    "> **Ex. 3.1.3:** Let `l1 = ['r ', 'Is', '>', ' < ', 'g ', '?']`. Create from `l1` the sentence \"Is r > g?\" using your knowledge about string formatting. Make sure there is only one space in between worlds.\n",
    ">\n",
    ">> _Hint:_ You should be able to combine the above informations to solve this exercise."
   ]
  },
  {
   "cell_type": "code",
   "execution_count": 1,
   "metadata": {},
   "outputs": [
    {
     "name": "stdout",
     "output_type": "stream",
     "text": [
      "Is r > g ?\n"
     ]
    }
   ],
   "source": [
    "# [Answer to Ex. 3.1.3 here]\n",
    "l1 = ['r', 'Is', '>', ' < ', 'g ', '?']\n",
    "\n",
    "print(l1[1], l1[0], l1[2], l1[4].strip(), l1[5])"
   ]
  },
  {
   "cell_type": "markdown",
   "metadata": {},
   "source": [
    "> **Ex. 3.1.4**: Create an empty dictionary `words` using the `dict()`function. Then add each of the words in `['animal', 'coffee', 'python', 'unit', 'knowledge', 'tread', 'arise']` as a key, with the value being a boolean indicator for whether the word begins with a vowel. The results should look like `{'bacon': False, 'asynchronous': True ...}`\n",
    ">\n",
    ">> _Hint:_ You might want co first construct a function that asseses whether a given word begins with a vowel or not."
   ]
  },
  {
   "cell_type": "code",
   "execution_count": 2,
   "metadata": {},
   "outputs": [
    {
     "name": "stdout",
     "output_type": "stream",
     "text": [
      "{'animal': 'True', 'coffee': 'False', 'python': 'False', 'unit': 'True', 'knowledge': 'False', 'tread': 'False', 'arise': 'True'}\n"
     ]
    }
   ],
   "source": [
    "# [Answer to Ex. 3.1.4 here]\n",
    "words = dict()\n",
    "keys = ['animal', 'coffee', 'python', 'unit', 'knowledge', 'tread', 'arise']\n",
    "\n",
    "values = []\n",
    "\n",
    "for i in range(len(keys)): \n",
    "    if str(keys[i][0]) in ['a', 'e', 'i', 'o', 'y', 'u']:\n",
    "        values.append(\"True\")\n",
    "    else:\n",
    "        values.append(\"False\")\n",
    "    \n",
    "pairs = list(zip(keys, values))\n",
    "\n",
    "words = dict(pairs)\n",
    "print(words)"
   ]
  },
  {
   "cell_type": "markdown",
   "metadata": {},
   "source": [
    "> **Ex. 3.3.2:** use the `requests` module (get it with `pip install requests`) and `construct_link()` to request birth data from the \"FOD\" table. Get all available years (variable \"Tid\"), but only female births (BARNKON=P) . Unpack the json payload and store the result. Wrap the whole thing in a function which takes an url as input and returns the corresponding output.\n",
    ">\n",
    ">> _Hint:_ The `requests.response` object has a `.json()` method. \n",
    ">\n",
    ">> _Note:_ you wrote `construct_link()` in 3.3.1, if you didn't heres the link you need to get: `https://api.statbank.dk/v1/data/FOLK1A/JSONSTAT?lang=en&Tid=*`"
   ]
  },
  {
   "cell_type": "code",
   "execution_count": null,
   "metadata": {},
   "outputs": [],
   "source": [
    "# [Answer to Ex. 3.3.2 here]\n",
    "\n",
    "Has anyone done this ?"
   ]
  },
  {
   "cell_type": "markdown",
   "metadata": {},
   "source": [
    "## Problems from exercise set 4\n"
   ]
  },
  {
   "cell_type": "code",
   "execution_count": 4,
   "metadata": {},
   "outputs": [],
   "source": [
    "import numpy as np\n",
    "import pandas as pd"
   ]
  },
  {
   "cell_type": "markdown",
   "metadata": {},
   "source": [
    "> **Ex. 4.1.1:** Use Pandas' CSV reader to fetch  daily data weather from 1864 for various stations - available [here](https://www1.ncdc.noaa.gov/pub/data/ghcn/daily/by_year/). \n",
    ">\n",
    ">> *Hint 1*: for compressed files you may need to specify the keyword `compression`.\n",
    ">\n",
    ">> *Hint 2*: keyword `header` can be specified as the CSV has no column names.\n",
    ">\n",
    ">> *Hint 3*: Specify the path, as the URL linking directly to the 1864 file. "
   ]
  },
  {
   "cell_type": "code",
   "execution_count": 6,
   "metadata": {},
   "outputs": [
    {
     "name": "stdout",
     "output_type": "stream",
     "text": [
      "             0         1     2    3    4    5  6   7\n",
      "0  ITE00100550  18640101  TMAX   10  NaN  NaN  E NaN\n",
      "1  ITE00100550  18640101  TMIN  -23  NaN  NaN  E NaN\n",
      "2  ITE00100550  18640101  PRCP   25  NaN  NaN  E NaN\n",
      "3  ASN00079028  18640101  PRCP    0  NaN  NaN  a NaN\n",
      "4  USC00064757  18640101  PRCP  119  NaN  NaN  F NaN\n"
     ]
    }
   ],
   "source": [
    "# [Answer to Ex. 4.1.1 here]\n",
    "url = 'https://www1.ncdc.noaa.gov/pub/data/ghcn/daily/by_year/1864.csv.gz'\n",
    "\n",
    "weather = pd.read_csv(url, header=None) #missing the compression parameter - compression=gzip?\n",
    "print(weather.head(5))"
   ]
  },
  {
   "cell_type": "markdown",
   "metadata": {},
   "source": [
    "> **Ex. 4.1.2:** Structure your weather DataFrame by using only the relevant columns (station identifier, data, observation type, observation value), rename them. Make sure observations are correctly formated (how many decimals should we add? one?).\n",
    ">\n",
    ">> *Hint:* rename can be done with `df.columns=COLS` where `COLS` is a list of column names."
   ]
  },
  {
   "cell_type": "code",
   "execution_count": 7,
   "metadata": {},
   "outputs": [
    {
     "name": "stdout",
     "output_type": "stream",
     "text": [
      "  stationIdentifier      data observationType  observationValue\n",
      "0       ITE00100550  18640101            TMAX                10\n",
      "1       ITE00100550  18640101            TMIN               -23\n",
      "2       ITE00100550  18640101            PRCP                25\n",
      "3       ASN00079028  18640101            PRCP                 0\n",
      "4       USC00064757  18640101            PRCP               119\n"
     ]
    }
   ],
   "source": [
    "# [Answer to Ex. 4.1.2 here]\n",
    "weather = weather.loc[:,[0,1,2,3]]\n",
    "cols = ['stationIdentifier', 'data', 'observationType', 'observationValue']\n",
    "\n",
    "weather.columns = cols\n",
    "print(weather.head(5))\n",
    "\n",
    "#how do we check for format?"
   ]
  },
  {
   "cell_type": "markdown",
   "metadata": {},
   "source": [
    "> **Ex. 4.1.3:**  Select data for the station `ITE00100550` and only observations for maximal temperature. Make a copy of the DataFrame. Explain in a one or two sentences how copying works.\n",
    ">\n",
    ">> *Hint 1*: the `&` operator works elementwise on boolean series (like `and` in core python).\n",
    ">\n",
    ">> *Hint 2*: copying of the dataframe is done with the `copy` method for DataFrames."
   ]
  },
  {
   "cell_type": "code",
   "execution_count": 8,
   "metadata": {},
   "outputs": [
    {
     "name": "stdout",
     "output_type": "stream",
     "text": [
      "    stationIdentifier      data observationType  observationValue\n",
      "0         ITE00100550  18640101            TMAX                10\n",
      "75        ITE00100550  18640102            TMAX                 8\n",
      "152       ITE00100550  18640103            TMAX               -28\n",
      "227       ITE00100550  18640104            TMAX                 0\n",
      "305       ITE00100550  18640105            TMAX               -19\n"
     ]
    }
   ],
   "source": [
    "# [Answer to Ex. 4.1.3 here]\n",
    "weather_tmax = weather.loc[(weather['stationIdentifier'] == 'ITE00100550') & (weather['observationType'] == 'TMAX')]\n",
    "weather_tmax_copy = weather_tmax.copy()\n",
    "print(weather_tmax.head(5))\n",
    "\n",
    "#explain how copy works"
   ]
  },
  {
   "cell_type": "markdown",
   "metadata": {},
   "source": [
    "> **Ex. 4.1.4:** Make a new column called `TMAX_F` where you have converted the temperature variables to Fahrenheit. \n",
    ">\n",
    ">> *Hint*: Conversion is $F = 32 + 1.8*C$ where $F$ is Fahrenheit and $C$ is Celsius."
   ]
  },
  {
   "cell_type": "code",
   "execution_count": 9,
   "metadata": {},
   "outputs": [
    {
     "name": "stdout",
     "output_type": "stream",
     "text": [
      "    stationIdentifier      data observationType  observationValue  tmax_f\n",
      "0         ITE00100550  18640101            TMAX                10    50.0\n",
      "75        ITE00100550  18640102            TMAX                 8    46.4\n",
      "152       ITE00100550  18640103            TMAX               -28   -18.4\n",
      "227       ITE00100550  18640104            TMAX                 0    32.0\n",
      "305       ITE00100550  18640105            TMAX               -19    -2.2\n"
     ]
    }
   ],
   "source": [
    "# [Answer to Ex. 4.1.4 here]\n",
    "tmax_f = 32 + 1.8 * weather_tmax_copy['observationValue']\n",
    "weather_tmax_copy['tmax_f'] = tmax_f\n",
    "\n",
    "print(weather_tmax_copy.head(5))"
   ]
  },
  {
   "cell_type": "markdown",
   "metadata": {},
   "source": [
    "## Problems from exercise set 5"
   ]
  },
  {
   "cell_type": "code",
   "execution_count": 22,
   "metadata": {},
   "outputs": [],
   "source": [
    "import matplotlib.pyplot as plt\n",
    "import numpy as np \n",
    "import pandas as pd\n",
    "import seaborn as sns \n",
    "\n",
    "%matplotlib inline \n",
    "\n",
    "iris = sns.load_dataset('iris')\n",
    "titanic = sns.load_dataset('titanic')"
   ]
  },
  {
   "cell_type": "markdown",
   "metadata": {},
   "source": [
    "> **Ex. 5.1.1:**: Show the first five rows of the titanic dataset. What information is in the dataset? Use a barplot to show the probability of survival for men and women within each passenger class. Can you make a boxplot showing the same information (why/why not?). _Bonus:_ show a boxplot for the fare-prices within each passenger class. \n",
    ">\n",
    "> Spend five minutes discussing what you can learn about the survival-selection aboard titanic from the figure(s).\n",
    ">\n",
    "> > _Hint:_ https://seaborn.pydata.org/generated/seaborn.barplot.html, specifically the `hue` option.\n"
   ]
  },
  {
   "cell_type": "code",
   "execution_count": 25,
   "metadata": {},
   "outputs": [
    {
     "name": "stdout",
     "output_type": "stream",
     "text": [
      "   survived  pclass     sex   age  sibsp  parch     fare embarked  class  \\\n",
      "0         0       3    male  22.0      1      0   7.2500        S  Third   \n",
      "1         1       1  female  38.0      1      0  71.2833        C  First   \n",
      "2         1       3  female  26.0      0      0   7.9250        S  Third   \n",
      "3         1       1  female  35.0      1      0  53.1000        S  First   \n",
      "4         0       3    male  35.0      0      0   8.0500        S  Third   \n",
      "\n",
      "     who  adult_male deck  embark_town alive  alone  \n",
      "0    man        True  NaN  Southampton    no  False  \n",
      "1  woman       False    C    Cherbourg   yes  False  \n",
      "2  woman       False  NaN  Southampton   yes   True  \n",
      "3  woman       False    C  Southampton   yes  False  \n",
      "4    man        True  NaN  Southampton    no   True  \n"
     ]
    },
    {
     "data": {
      "image/png": "[encoded data removed]",
      "text/plain": [
       "<Figure size 432x288 with 2 Axes>"
      ]
     },
     "metadata": {},
     "output_type": "display_data"
    }
   ],
   "source": [
    "# [Answer to Ex. 5.1.1 here]\n",
    "print(titanic.head(5))\n",
    "# What information is in the dataset?\n",
    "# The dataset contains information about fx class, sex, age, fare, town and \n",
    "\n",
    "# survival of the people who were on board the Titanic \n",
    "fig, axes = plt.subplots(1,2)\n",
    "plot_one = sns.barplot(x='sex', y='survived', hue='pclass', data=titanic, ax=axes[0])\n",
    "\n",
    "# Can you make a boxplot of the same? \n",
    "# No, 'Survived' is a binary variable that only take values 1 and 0. Boxplots are used to describe spread in numeric \n",
    "# variables value and with 'Survived' only taking values 0 and 1, there is no real spread to describe.\n",
    "\n",
    "plot_two = sns.boxplot(y='fare', x='pclass', data=titanic, ax=axes[1])\n",
    "\n"
   ]
  },
  {
   "cell_type": "markdown",
   "metadata": {},
   "source": [
    "> **Ex. 5.1.2:** Using the iris flower dataset, draw a scatterplot of sepal length and petal length. Include a second order polynomial fitted to the data. Add a title to the plot and rename the axis labels.\n",
    "> _Discuss:_ Is this a meaningful way to display the data? What could we do differently?\n",
    ">\n",
    "> For a better understanding of the dataset this image might be useful:\n",
    "> <img src=\"iris_pic.png\" alt=\"Drawing\" style=\"width: 200px;\"/>\n",
    ">\n",
    ">> _Hint:_ use the `.regplot` method from seaborn. "
   ]
  },
  {
   "cell_type": "code",
   "execution_count": 17,
   "metadata": {},
   "outputs": [
    {
     "data": {
      "text/plain": [
       "Text(0,0.5,'Petal length')"
      ]
     },
     "execution_count": 17,
     "metadata": {},
     "output_type": "execute_result"
    },
    {
     "data": {
      "image/png": "[encoded data removed]",
      "text/plain": [
       "<Figure size 432x288 with 1 Axes>"
      ]
     },
     "metadata": {},
     "output_type": "display_data"
    }
   ],
   "source": [
    "# [Answer to Ex. 5.1.2 here]\n",
    "ax = sns.regplot(x=iris['sepal_length'], y=iris['petal_length'],order=2)\n",
    "ax.set_title(\"How petal length correlates with Septal lengths\")\n",
    "ax.set_xlabel(\"Sepal length\")\n",
    "ax.set_ylabel(\"Petal length\")\n",
    "\n"
   ]
  },
  {
   "cell_type": "markdown",
   "metadata": {},
   "source": [
    "> **Ex. 5.1.3:** Combine the two of the figures you created above into a two-panel figure similar to the one shown here:\n",
    "> <img src=\"Example.png\" alt=\"Drawing\" style=\"width: 600px;\"/>\n",
    ">\n",
    "> Save the figure as a png file on your computer. \n",
    ">> _Hint:_ See [this question](https://stackoverflow.com/questions/41384040/subplot-for-seaborn-boxplot) on stackoverflow for inspiration."
   ]
  },
  {
   "cell_type": "code",
   "execution_count": 46,
   "metadata": {},
   "outputs": [
    {
     "data": {
      "text/plain": [
       "<matplotlib.axes._subplots.AxesSubplot at 0x1a21ecb198>"
      ]
     },
     "execution_count": 46,
     "metadata": {},
     "output_type": "execute_result"
    },
    {
     "data": {
      "image/png": "[encoded data removed]",
      "text/plain": [
       "<Figure size 432x288 with 2 Axes>"
      ]
     },
     "metadata": {},
     "output_type": "display_data"
    }
   ],
   "source": [
    "# [Answer to Ex. 5.1.3 here]\n",
    "fig, axes = plt.subplots(1,2))\n",
    "sns.barplot(y='survived', x='sex', hue='pclass', data=titanic, ax=axes[0])\n",
    "sns.regplot(x=iris['sepal_length'], y=iris['petal_length'],order=2, ax=axes[1])"
   ]
  },
  {
   "cell_type": "markdown",
   "metadata": {},
   "source": [
    "> **Ex. 5.1.4:** Use [pairplot with hue](https://seaborn.pydata.org/generated/seaborn.pairplot.html) to create a figure that clearly shows how the different species vary across measurements. Change the color palette and remove the shading from the density plots. _Bonus:_ Try to explain how the `diag_kws` argument works (_hint:_ [read here](https://stackoverflow.com/questions/1769403/understanding-kwargs-in-python))"
   ]
  },
  {
   "cell_type": "code",
   "execution_count": 27,
   "metadata": {
    "scrolled": true
   },
   "outputs": [
    {
     "data": {
      "image/png": "[encoded data removed]",
      "text/plain": [
       "<Figure size 799.125x720 with 20 Axes>"
      ]
     },
     "metadata": {},
     "output_type": "display_data"
    }
   ],
   "source": [
    "# [Answer to Ex. 5.1.4 here]\n",
    "sns.set(style=\"ticks\", color_codes=True)\n",
    "iris = sns.load_dataset(\"iris\")\n",
    "g = sns.pairplot(iris, hue= 'species',diag_kind= 'kde',diag_kws=dict(shade=False))"
   ]
  },
  {
   "cell_type": "markdown",
   "metadata": {},
   "source": [
    "## Problems from exercise set 6\n",
    "\n",
    "> _Note:_ A central part of these exercises and the ones from exercise set 7 is downloading data from the NOAA servers. If you cannot complete this part, you can download the data as csv files **from [github](https://github.com/abjer/sds/tree/master/material/session_7)**."
   ]
  },
  {
   "cell_type": "code",
   "execution_count": 19,
   "metadata": {},
   "outputs": [],
   "source": [
    "%matplotlib inline\n",
    "import pandas as pd\n",
    "import matplotlib.pyplot as plt"
   ]
  },
  {
   "cell_type": "markdown",
   "metadata": {},
   "source": [
    "> **Ex. 6.1.4:** Extract the country code from the station name into a separate column.\n",
    ">\n",
    ">> _Hint:_ The station column contains a GHCND ID, given to each weather station by NOAA. The format of these ID's is a 2-3 letter country code, followed by a integer identifying the specific station. A simple approach is to assume a fixed length of the country ID. A more complex way would be to use the [`re`](https://docs.python.org/2/library/re.html) module."
   ]
  },
  {
   "cell_type": "code",
   "execution_count": null,
   "metadata": {},
   "outputs": [],
   "source": [
    "# [Answer to Ex. 6.1.4]"
   ]
  },
  {
   "cell_type": "markdown",
   "metadata": {},
   "source": [
    "> **Ex. 6.1.5:** Make a function that downloads and formats the weather data according to previous exercises in Exercise Section 4.1, 6.1. You should use data for ALL stations but still only select maximal temperature. _Bonus:_ To validate that your function works plot the temperature curve for each country in the same window. Use `plt.legend()` to add a legend. "
   ]
  },
  {
   "cell_type": "code",
   "execution_count": null,
   "metadata": {},
   "outputs": [],
   "source": [
    "# [Answer to Ex. 6.1.5]"
   ]
  },
  {
   "cell_type": "markdown",
   "metadata": {},
   "source": [
    "## Problems from exercise set 7\n",
    "\n",
    "> _Note:_ Once again if you haven't managed to download the data from NOAA, you can refer to the github repo to get csv-files containing the required data."
   ]
  },
  {
   "cell_type": "code",
   "execution_count": 22,
   "metadata": {},
   "outputs": [],
   "source": [
    "%matplotlib inline \n",
    "\n",
    "import pandas as pd \n",
    "import matplotlib.pyplot as plt\n",
    "import matplotlib as mpl\n",
    "\n",
    "# Increases the plot size a little\n",
    "mpl.rcParams['figure.figsize'] = 11, 6"
   ]
  },
  {
   "cell_type": "markdown",
   "metadata": {},
   "source": [
    "> **Ex. 7.1.1:** Plot the monthly max,min, mean, first and third quartiles for maximum temperature for our station with the ID _'ITE00100550'_ in 1864. \n",
    "\n",
    "> *Hint*: the method `describe` computes all these measures."
   ]
  },
  {
   "cell_type": "code",
   "execution_count": null,
   "metadata": {},
   "outputs": [],
   "source": [
    "# [Answer to Ex. 7.1.1]"
   ]
  },
  {
   "cell_type": "markdown",
   "metadata": {},
   "source": [
    "> **Ex. 7.1.2:** Get the processed data from years 1864-1867 as a list of DataFrames. Convert the list into a single DataFrame by concatenating vertically. "
   ]
  },
  {
   "cell_type": "code",
   "execution_count": null,
   "metadata": {},
   "outputs": [],
   "source": [
    "# [Answer to Ex. 7.1.2]"
   ]
  },
  {
   "cell_type": "markdown",
   "metadata": {},
   "source": [
    "> **Ex. 7.1.3:** Parse the station location data which you can find at https://www1.ncdc.noaa.gov/pub/data/ghcn/daily/ghcnd-stations.txt. Merge station locations onto the weather data spanning 1864-1867.  \n",
    "\n",
    "> _Hint:_ The location data have the folllowing format, \n",
    "\n",
    "```\n",
    "------------------------------\n",
    "Variable   Columns   Type\n",
    "------------------------------\n",
    "ID            1-11   Character\n",
    "LATITUDE     13-20   Real\n",
    "LONGITUDE    22-30   Real\n",
    "ELEVATION    32-37   Real\n",
    "STATE        39-40   Character\n",
    "NAME         42-71   Character\n",
    "GSN FLAG     73-75   Character\n",
    "HCN/CRN FLAG 77-79   Character\n",
    "WMO ID       81-85   Character\n",
    "------------------------------\n",
    "```\n",
    "\n",
    "> *Hint*: The station information has fixed width format - does there exist a pandas reader for that?"
   ]
  },
  {
   "cell_type": "code",
   "execution_count": null,
   "metadata": {},
   "outputs": [],
   "source": [
    "# [Answer to Ex. 7.1.3]"
   ]
  },
  {
   "cell_type": "markdown",
   "metadata": {},
   "source": [
    "## Problems from exercise set 8\n",
    "\n",
    "> **Ex. 8.1.2.:** Use the `request` module to collect the first page of job postings and unpack the relevant `json` data into a `pandas` DataFrame."
   ]
  },
  {
   "cell_type": "code",
   "execution_count": 20,
   "metadata": {},
   "outputs": [
    {
     "name": "stdout",
     "output_type": "stream",
     "text": [
      "True\n",
      "dict_keys(['Expression', 'Facets', 'JobPositionPostings', 'TotalResultCount'])\n"
     ]
    }
   ],
   "source": [
    "# [Answer to Ex. 8.1.2]\n",
    "\n",
    "#code is not tested!\n",
    "import requests\n",
    "import json\n",
    "import pandas as pd\n",
    "url = 'https://job.jobnet.dk/CV/FindWork/Search'\n",
    "resp_job = requests.get(url)\n",
    "print(resp_job.ok)\n",
    "\n",
    "json = resp_job.json()\n",
    "print(json.keys())\n",
    "\n",
    "json_job = json[\"JobPositionPostings\"]\n",
    "\n",
    "df_job = pd.DataFrame(json_job)\n"
   ]
  },
  {
   "cell_type": "markdown",
   "metadata": {},
   "source": [
    "> **Ex. 8.1.3.:** Store and print the 'TotalResultCount' value for later use. Also create a dataframe from the 'JobPositionPostings' field in the json. "
   ]
  },
  {
   "cell_type": "code",
   "execution_count": 21,
   "metadata": {},
   "outputs": [
    {
     "name": "stdout",
     "output_type": "stream",
     "text": [
      "15694\n"
     ]
    },
    {
     "data": {
      "text/html": [
       "<div>\n",
       "<style scoped>\n",
       "    .dataframe tbody tr th:only-of-type {\n",
       "        vertical-align: middle;\n",
       "    }\n",
       "\n",
       "    .dataframe tbody tr th {\n",
       "        vertical-align: top;\n",
       "    }\n",
       "\n",
       "    .dataframe thead th {\n",
       "        text-align: right;\n",
       "    }\n",
       "</style>\n",
       "<table border=\"1\" class=\"dataframe\">\n",
       "  <thead>\n",
       "    <tr style=\"text-align: right;\">\n",
       "      <th></th>\n",
       "      <th>AnonymousEmployer</th>\n",
       "      <th>AssignmentStartDate</th>\n",
       "      <th>AutomatchType</th>\n",
       "      <th>Country</th>\n",
       "      <th>EmploymentType</th>\n",
       "      <th>HasLocationValues</th>\n",
       "      <th>HiringOrgCVR</th>\n",
       "      <th>HiringOrgName</th>\n",
       "      <th>ID</th>\n",
       "      <th>IsExternal</th>\n",
       "      <th>...</th>\n",
       "      <th>UseWorkPlaceAddressForJoblog</th>\n",
       "      <th>Weight</th>\n",
       "      <th>WorkHours</th>\n",
       "      <th>WorkPlaceAbroad</th>\n",
       "      <th>WorkPlaceAddress</th>\n",
       "      <th>WorkPlaceCity</th>\n",
       "      <th>WorkPlaceNotStatic</th>\n",
       "      <th>WorkPlaceOtherAddress</th>\n",
       "      <th>WorkPlacePostalCode</th>\n",
       "      <th>WorkplaceID</th>\n",
       "    </tr>\n",
       "  </thead>\n",
       "  <tbody>\n",
       "    <tr>\n",
       "      <th>0</th>\n",
       "      <td>False</td>\n",
       "      <td>0001-01-01T00:00:00</td>\n",
       "      <td>0</td>\n",
       "      <td>Danmark</td>\n",
       "      <td></td>\n",
       "      <td>True</td>\n",
       "      <td>19946401</td>\n",
       "      <td>KULINARIS V/RENE MORTENSEN</td>\n",
       "      <td>4859945</td>\n",
       "      <td>False</td>\n",
       "      <td>...</td>\n",
       "      <td>True</td>\n",
       "      <td>1.0</td>\n",
       "      <td>Deltid</td>\n",
       "      <td>False</td>\n",
       "      <td>Østerbrogade 98</td>\n",
       "      <td>København Ø</td>\n",
       "      <td>False</td>\n",
       "      <td>False</td>\n",
       "      <td>2100</td>\n",
       "      <td>61547</td>\n",
       "    </tr>\n",
       "    <tr>\n",
       "      <th>1</th>\n",
       "      <td>False</td>\n",
       "      <td>0001-01-01T00:00:00</td>\n",
       "      <td>0</td>\n",
       "      <td>Danmark</td>\n",
       "      <td></td>\n",
       "      <td>True</td>\n",
       "      <td>20229888</td>\n",
       "      <td>MC TAG APS</td>\n",
       "      <td>4866236</td>\n",
       "      <td>False</td>\n",
       "      <td>...</td>\n",
       "      <td>False</td>\n",
       "      <td>1.0</td>\n",
       "      <td>Fuldtid</td>\n",
       "      <td>False</td>\n",
       "      <td></td>\n",
       "      <td></td>\n",
       "      <td>True</td>\n",
       "      <td>False</td>\n",
       "      <td></td>\n",
       "      <td>18122</td>\n",
       "    </tr>\n",
       "    <tr>\n",
       "      <th>2</th>\n",
       "      <td>False</td>\n",
       "      <td>0001-01-01T00:00:00</td>\n",
       "      <td>0</td>\n",
       "      <td>Danmark</td>\n",
       "      <td></td>\n",
       "      <td>True</td>\n",
       "      <td>31591724</td>\n",
       "      <td>RESTAURANT PINDEN ApS</td>\n",
       "      <td>4866233</td>\n",
       "      <td>False</td>\n",
       "      <td>...</td>\n",
       "      <td>True</td>\n",
       "      <td>1.0</td>\n",
       "      <td>Deltid</td>\n",
       "      <td>False</td>\n",
       "      <td>Skolegade 29</td>\n",
       "      <td>Aarhus C</td>\n",
       "      <td>False</td>\n",
       "      <td>False</td>\n",
       "      <td>8000</td>\n",
       "      <td>79787</td>\n",
       "    </tr>\n",
       "    <tr>\n",
       "      <th>3</th>\n",
       "      <td>False</td>\n",
       "      <td>0001-01-01T00:00:00</td>\n",
       "      <td>0</td>\n",
       "      <td>Danmark</td>\n",
       "      <td></td>\n",
       "      <td>True</td>\n",
       "      <td>21319783</td>\n",
       "      <td>Aalborg Skolefoto</td>\n",
       "      <td>4866232</td>\n",
       "      <td>False</td>\n",
       "      <td>...</td>\n",
       "      <td>True</td>\n",
       "      <td>1.0</td>\n",
       "      <td>Fuldtid</td>\n",
       "      <td>False</td>\n",
       "      <td>Ny Kærvej 17B</td>\n",
       "      <td>Aalborg</td>\n",
       "      <td>False</td>\n",
       "      <td>False</td>\n",
       "      <td>9000</td>\n",
       "      <td>80901</td>\n",
       "    </tr>\n",
       "    <tr>\n",
       "      <th>4</th>\n",
       "      <td>False</td>\n",
       "      <td>0001-01-01T00:00:00</td>\n",
       "      <td>0</td>\n",
       "      <td>Danmark</td>\n",
       "      <td></td>\n",
       "      <td>True</td>\n",
       "      <td>33992688</td>\n",
       "      <td>STIA v/Christina Munk Lægaard</td>\n",
       "      <td>4866231</td>\n",
       "      <td>False</td>\n",
       "      <td>...</td>\n",
       "      <td>True</td>\n",
       "      <td>1.0</td>\n",
       "      <td>Fuldtid</td>\n",
       "      <td>False</td>\n",
       "      <td>Hedegårdsvej 2</td>\n",
       "      <td>Roskilde</td>\n",
       "      <td>False</td>\n",
       "      <td>False</td>\n",
       "      <td>4000</td>\n",
       "      <td>128237</td>\n",
       "    </tr>\n",
       "    <tr>\n",
       "      <th>5</th>\n",
       "      <td>False</td>\n",
       "      <td>0001-01-01T00:00:00</td>\n",
       "      <td>0</td>\n",
       "      <td>Danmark</td>\n",
       "      <td></td>\n",
       "      <td>True</td>\n",
       "      <td>13223459</td>\n",
       "      <td>UNI-C - Styrelsen for IT og læring (København)</td>\n",
       "      <td>4866230</td>\n",
       "      <td>False</td>\n",
       "      <td>...</td>\n",
       "      <td>True</td>\n",
       "      <td>1.0</td>\n",
       "      <td>Fuldtid</td>\n",
       "      <td>False</td>\n",
       "      <td>Vester Voldgade 123</td>\n",
       "      <td>København V</td>\n",
       "      <td>False</td>\n",
       "      <td>False</td>\n",
       "      <td>1552</td>\n",
       "      <td>29562</td>\n",
       "    </tr>\n",
       "    <tr>\n",
       "      <th>6</th>\n",
       "      <td>False</td>\n",
       "      <td>0001-01-01T00:00:00</td>\n",
       "      <td>0</td>\n",
       "      <td>Danmark</td>\n",
       "      <td></td>\n",
       "      <td>True</td>\n",
       "      <td>19687287</td>\n",
       "      <td>Hartmanns A/S, Fredericia</td>\n",
       "      <td>4866226</td>\n",
       "      <td>False</td>\n",
       "      <td>...</td>\n",
       "      <td>False</td>\n",
       "      <td>1.0</td>\n",
       "      <td>Deltid</td>\n",
       "      <td>False</td>\n",
       "      <td></td>\n",
       "      <td></td>\n",
       "      <td>True</td>\n",
       "      <td>False</td>\n",
       "      <td></td>\n",
       "      <td>67273</td>\n",
       "    </tr>\n",
       "    <tr>\n",
       "      <th>7</th>\n",
       "      <td>False</td>\n",
       "      <td>0001-01-01T00:00:00</td>\n",
       "      <td>0</td>\n",
       "      <td>Danmark</td>\n",
       "      <td></td>\n",
       "      <td>True</td>\n",
       "      <td>33012551</td>\n",
       "      <td>Restaurant MALT</td>\n",
       "      <td>4866225</td>\n",
       "      <td>False</td>\n",
       "      <td>...</td>\n",
       "      <td>True</td>\n",
       "      <td>1.0</td>\n",
       "      <td>Deltid</td>\n",
       "      <td>False</td>\n",
       "      <td>Torvet 19C</td>\n",
       "      <td>Køge</td>\n",
       "      <td>False</td>\n",
       "      <td>False</td>\n",
       "      <td>4600</td>\n",
       "      <td>103354</td>\n",
       "    </tr>\n",
       "    <tr>\n",
       "      <th>8</th>\n",
       "      <td>False</td>\n",
       "      <td>0001-01-01T00:00:00</td>\n",
       "      <td>0</td>\n",
       "      <td>Danmark</td>\n",
       "      <td></td>\n",
       "      <td>True</td>\n",
       "      <td>29887500</td>\n",
       "      <td>Kalundborg Taxa v/Torben Stig Jensen</td>\n",
       "      <td>4866224</td>\n",
       "      <td>False</td>\n",
       "      <td>...</td>\n",
       "      <td>True</td>\n",
       "      <td>1.0</td>\n",
       "      <td>Deltid</td>\n",
       "      <td>False</td>\n",
       "      <td>Nørre Alle 6</td>\n",
       "      <td>Kalundborg</td>\n",
       "      <td>False</td>\n",
       "      <td>False</td>\n",
       "      <td>4400</td>\n",
       "      <td>109974</td>\n",
       "    </tr>\n",
       "    <tr>\n",
       "      <th>9</th>\n",
       "      <td>False</td>\n",
       "      <td>0001-01-01T00:00:00</td>\n",
       "      <td>0</td>\n",
       "      <td>Danmark</td>\n",
       "      <td></td>\n",
       "      <td>True</td>\n",
       "      <td>34850127</td>\n",
       "      <td>JobTeam - Herning</td>\n",
       "      <td>4851373</td>\n",
       "      <td>False</td>\n",
       "      <td>...</td>\n",
       "      <td>True</td>\n",
       "      <td>1.0</td>\n",
       "      <td>Fuldtid</td>\n",
       "      <td>False</td>\n",
       "      <td>Bredgade 50</td>\n",
       "      <td>Herning</td>\n",
       "      <td>False</td>\n",
       "      <td>False</td>\n",
       "      <td>7400</td>\n",
       "      <td>106331</td>\n",
       "    </tr>\n",
       "    <tr>\n",
       "      <th>10</th>\n",
       "      <td>False</td>\n",
       "      <td>0001-01-01T00:00:00</td>\n",
       "      <td>0</td>\n",
       "      <td>Danmark</td>\n",
       "      <td></td>\n",
       "      <td>True</td>\n",
       "      <td>34850127</td>\n",
       "      <td>JobTeam - Herning</td>\n",
       "      <td>4739660</td>\n",
       "      <td>False</td>\n",
       "      <td>...</td>\n",
       "      <td>True</td>\n",
       "      <td>1.0</td>\n",
       "      <td>Fuldtid</td>\n",
       "      <td>False</td>\n",
       "      <td>Bredgade 50</td>\n",
       "      <td>Herning</td>\n",
       "      <td>False</td>\n",
       "      <td>False</td>\n",
       "      <td>7400</td>\n",
       "      <td>106331</td>\n",
       "    </tr>\n",
       "    <tr>\n",
       "      <th>11</th>\n",
       "      <td>False</td>\n",
       "      <td>0001-01-01T00:00:00</td>\n",
       "      <td>0</td>\n",
       "      <td>Danmark</td>\n",
       "      <td></td>\n",
       "      <td>True</td>\n",
       "      <td>35395806</td>\n",
       "      <td>BRUNO A SØRENSEN BYG A/S</td>\n",
       "      <td>4825162</td>\n",
       "      <td>False</td>\n",
       "      <td>...</td>\n",
       "      <td>True</td>\n",
       "      <td>1.0</td>\n",
       "      <td>Fuldtid</td>\n",
       "      <td>False</td>\n",
       "      <td>Sønderbrogade 61</td>\n",
       "      <td>Tørring</td>\n",
       "      <td>False</td>\n",
       "      <td>False</td>\n",
       "      <td>7160</td>\n",
       "      <td>121826</td>\n",
       "    </tr>\n",
       "    <tr>\n",
       "      <th>12</th>\n",
       "      <td>False</td>\n",
       "      <td>0001-01-01T00:00:00</td>\n",
       "      <td>0</td>\n",
       "      <td>Danmark</td>\n",
       "      <td></td>\n",
       "      <td>True</td>\n",
       "      <td>35087273</td>\n",
       "      <td>Frøken Morgenhår</td>\n",
       "      <td>4866223</td>\n",
       "      <td>False</td>\n",
       "      <td>...</td>\n",
       "      <td>True</td>\n",
       "      <td>1.0</td>\n",
       "      <td>Fuldtid</td>\n",
       "      <td>False</td>\n",
       "      <td>Stationstorvet 4</td>\n",
       "      <td>Ølstykke</td>\n",
       "      <td>False</td>\n",
       "      <td>False</td>\n",
       "      <td>3650</td>\n",
       "      <td>108053</td>\n",
       "    </tr>\n",
       "    <tr>\n",
       "      <th>13</th>\n",
       "      <td>False</td>\n",
       "      <td>0001-01-01T00:00:00</td>\n",
       "      <td>0</td>\n",
       "      <td>Danmark</td>\n",
       "      <td></td>\n",
       "      <td>True</td>\n",
       "      <td>10354331</td>\n",
       "      <td>FIRST HOTEL ATLANTIC A/S</td>\n",
       "      <td>4866222</td>\n",
       "      <td>False</td>\n",
       "      <td>...</td>\n",
       "      <td>True</td>\n",
       "      <td>1.0</td>\n",
       "      <td>Fuldtid</td>\n",
       "      <td>False</td>\n",
       "      <td>Europaplads 10</td>\n",
       "      <td>Aarhus C</td>\n",
       "      <td>False</td>\n",
       "      <td>False</td>\n",
       "      <td>8000</td>\n",
       "      <td>14299</td>\n",
       "    </tr>\n",
       "    <tr>\n",
       "      <th>14</th>\n",
       "      <td>False</td>\n",
       "      <td>0001-01-01T00:00:00</td>\n",
       "      <td>0</td>\n",
       "      <td>Danmark</td>\n",
       "      <td></td>\n",
       "      <td>True</td>\n",
       "      <td>29201625</td>\n",
       "      <td>FLORAS CAFE</td>\n",
       "      <td>4866221</td>\n",
       "      <td>False</td>\n",
       "      <td>...</td>\n",
       "      <td>True</td>\n",
       "      <td>1.0</td>\n",
       "      <td>Deltid</td>\n",
       "      <td>False</td>\n",
       "      <td>Vesterbrogade 16</td>\n",
       "      <td>København V</td>\n",
       "      <td>False</td>\n",
       "      <td>False</td>\n",
       "      <td>1620</td>\n",
       "      <td>55088</td>\n",
       "    </tr>\n",
       "    <tr>\n",
       "      <th>15</th>\n",
       "      <td>False</td>\n",
       "      <td>0001-01-01T00:00:00</td>\n",
       "      <td>0</td>\n",
       "      <td>Danmark</td>\n",
       "      <td></td>\n",
       "      <td>True</td>\n",
       "      <td>29189420</td>\n",
       "      <td>Højvangskolen</td>\n",
       "      <td>4866220</td>\n",
       "      <td>False</td>\n",
       "      <td>...</td>\n",
       "      <td>True</td>\n",
       "      <td>1.0</td>\n",
       "      <td>Deltid</td>\n",
       "      <td>False</td>\n",
       "      <td>Tingstedet 20</td>\n",
       "      <td>Svenstrup J</td>\n",
       "      <td>False</td>\n",
       "      <td>False</td>\n",
       "      <td>9230</td>\n",
       "      <td>95648</td>\n",
       "    </tr>\n",
       "    <tr>\n",
       "      <th>16</th>\n",
       "      <td>False</td>\n",
       "      <td>0001-01-01T00:00:00</td>\n",
       "      <td>0</td>\n",
       "      <td>Danmark</td>\n",
       "      <td></td>\n",
       "      <td>True</td>\n",
       "      <td>38380303</td>\n",
       "      <td>danbolig Allerød</td>\n",
       "      <td>4866219</td>\n",
       "      <td>False</td>\n",
       "      <td>...</td>\n",
       "      <td>True</td>\n",
       "      <td>1.0</td>\n",
       "      <td>Fuldtid</td>\n",
       "      <td>False</td>\n",
       "      <td>Allerød Stationsvej 2E</td>\n",
       "      <td>Allerød</td>\n",
       "      <td>False</td>\n",
       "      <td>False</td>\n",
       "      <td>3450</td>\n",
       "      <td>0</td>\n",
       "    </tr>\n",
       "    <tr>\n",
       "      <th>17</th>\n",
       "      <td>False</td>\n",
       "      <td>0001-01-01T00:00:00</td>\n",
       "      <td>0</td>\n",
       "      <td>Danmark</td>\n",
       "      <td></td>\n",
       "      <td>True</td>\n",
       "      <td>37965766</td>\n",
       "      <td>Trin for Trin Service Erhverv ApS</td>\n",
       "      <td>4866215</td>\n",
       "      <td>False</td>\n",
       "      <td>...</td>\n",
       "      <td>False</td>\n",
       "      <td>1.0</td>\n",
       "      <td>Deltid</td>\n",
       "      <td>False</td>\n",
       "      <td></td>\n",
       "      <td></td>\n",
       "      <td>False</td>\n",
       "      <td>True</td>\n",
       "      <td></td>\n",
       "      <td>119608</td>\n",
       "    </tr>\n",
       "    <tr>\n",
       "      <th>18</th>\n",
       "      <td>False</td>\n",
       "      <td>0001-01-01T00:00:00</td>\n",
       "      <td>0</td>\n",
       "      <td>Danmark</td>\n",
       "      <td></td>\n",
       "      <td>True</td>\n",
       "      <td>37965766</td>\n",
       "      <td>Trin for Trin Service Erhverv ApS</td>\n",
       "      <td>4866214</td>\n",
       "      <td>False</td>\n",
       "      <td>...</td>\n",
       "      <td>True</td>\n",
       "      <td>1.0</td>\n",
       "      <td>Deltid</td>\n",
       "      <td>False</td>\n",
       "      <td>Savværket 32</td>\n",
       "      <td>Gram</td>\n",
       "      <td>False</td>\n",
       "      <td>False</td>\n",
       "      <td>6510</td>\n",
       "      <td>119608</td>\n",
       "    </tr>\n",
       "    <tr>\n",
       "      <th>19</th>\n",
       "      <td>False</td>\n",
       "      <td>0001-01-01T00:00:00</td>\n",
       "      <td>0</td>\n",
       "      <td>Danmark</td>\n",
       "      <td></td>\n",
       "      <td>True</td>\n",
       "      <td>37965766</td>\n",
       "      <td>Trin for Trin Service Erhverv ApS</td>\n",
       "      <td>4866213</td>\n",
       "      <td>False</td>\n",
       "      <td>...</td>\n",
       "      <td>False</td>\n",
       "      <td>1.0</td>\n",
       "      <td>Deltid</td>\n",
       "      <td>False</td>\n",
       "      <td></td>\n",
       "      <td></td>\n",
       "      <td>False</td>\n",
       "      <td>True</td>\n",
       "      <td></td>\n",
       "      <td>119608</td>\n",
       "    </tr>\n",
       "  </tbody>\n",
       "</table>\n",
       "<p>20 rows × 42 columns</p>\n",
       "</div>"
      ],
      "text/plain": [
       "    AnonymousEmployer  AssignmentStartDate  AutomatchType  Country  \\\n",
       "0               False  0001-01-01T00:00:00              0  Danmark   \n",
       "1               False  0001-01-01T00:00:00              0  Danmark   \n",
       "2               False  0001-01-01T00:00:00              0  Danmark   \n",
       "3               False  0001-01-01T00:00:00              0  Danmark   \n",
       "4               False  0001-01-01T00:00:00              0  Danmark   \n",
       "5               False  0001-01-01T00:00:00              0  Danmark   \n",
       "6               False  0001-01-01T00:00:00              0  Danmark   \n",
       "7               False  0001-01-01T00:00:00              0  Danmark   \n",
       "8               False  0001-01-01T00:00:00              0  Danmark   \n",
       "9               False  0001-01-01T00:00:00              0  Danmark   \n",
       "10              False  0001-01-01T00:00:00              0  Danmark   \n",
       "11              False  0001-01-01T00:00:00              0  Danmark   \n",
       "12              False  0001-01-01T00:00:00              0  Danmark   \n",
       "13              False  0001-01-01T00:00:00              0  Danmark   \n",
       "14              False  0001-01-01T00:00:00              0  Danmark   \n",
       "15              False  0001-01-01T00:00:00              0  Danmark   \n",
       "16              False  0001-01-01T00:00:00              0  Danmark   \n",
       "17              False  0001-01-01T00:00:00              0  Danmark   \n",
       "18              False  0001-01-01T00:00:00              0  Danmark   \n",
       "19              False  0001-01-01T00:00:00              0  Danmark   \n",
       "\n",
       "   EmploymentType  HasLocationValues  HiringOrgCVR  \\\n",
       "0                               True      19946401   \n",
       "1                               True      20229888   \n",
       "2                               True      31591724   \n",
       "3                               True      21319783   \n",
       "4                               True      33992688   \n",
       "5                               True      13223459   \n",
       "6                               True      19687287   \n",
       "7                               True      33012551   \n",
       "8                               True      29887500   \n",
       "9                               True      34850127   \n",
       "10                              True      34850127   \n",
       "11                              True      35395806   \n",
       "12                              True      35087273   \n",
       "13                              True      10354331   \n",
       "14                              True      29201625   \n",
       "15                              True      29189420   \n",
       "16                              True      38380303   \n",
       "17                              True      37965766   \n",
       "18                              True      37965766   \n",
       "19                              True      37965766   \n",
       "\n",
       "                                     HiringOrgName       ID  IsExternal  \\\n",
       "0                       KULINARIS V/RENE MORTENSEN  4859945       False   \n",
       "1                                       MC TAG APS  4866236       False   \n",
       "2                            RESTAURANT PINDEN ApS  4866233       False   \n",
       "3                                Aalborg Skolefoto  4866232       False   \n",
       "4                    STIA v/Christina Munk Lægaard  4866231       False   \n",
       "5   UNI-C - Styrelsen for IT og læring (København)  4866230       False   \n",
       "6                        Hartmanns A/S, Fredericia  4866226       False   \n",
       "7                                  Restaurant MALT  4866225       False   \n",
       "8             Kalundborg Taxa v/Torben Stig Jensen  4866224       False   \n",
       "9                                JobTeam - Herning  4851373       False   \n",
       "10                               JobTeam - Herning  4739660       False   \n",
       "11                        BRUNO A SØRENSEN BYG A/S  4825162       False   \n",
       "12                                Frøken Morgenhår  4866223       False   \n",
       "13                        FIRST HOTEL ATLANTIC A/S  4866222       False   \n",
       "14                                     FLORAS CAFE  4866221       False   \n",
       "15                                   Højvangskolen  4866220       False   \n",
       "16                                danbolig Allerød  4866219       False   \n",
       "17               Trin for Trin Service Erhverv ApS  4866215       False   \n",
       "18               Trin for Trin Service Erhverv ApS  4866214       False   \n",
       "19               Trin for Trin Service Erhverv ApS  4866213       False   \n",
       "\n",
       "       ...      UseWorkPlaceAddressForJoblog Weight WorkHours WorkPlaceAbroad  \\\n",
       "0      ...                              True    1.0    Deltid           False   \n",
       "1      ...                             False    1.0   Fuldtid           False   \n",
       "2      ...                              True    1.0    Deltid           False   \n",
       "3      ...                              True    1.0   Fuldtid           False   \n",
       "4      ...                              True    1.0   Fuldtid           False   \n",
       "5      ...                              True    1.0   Fuldtid           False   \n",
       "6      ...                             False    1.0    Deltid           False   \n",
       "7      ...                              True    1.0    Deltid           False   \n",
       "8      ...                              True    1.0    Deltid           False   \n",
       "9      ...                              True    1.0   Fuldtid           False   \n",
       "10     ...                              True    1.0   Fuldtid           False   \n",
       "11     ...                              True    1.0   Fuldtid           False   \n",
       "12     ...                              True    1.0   Fuldtid           False   \n",
       "13     ...                              True    1.0   Fuldtid           False   \n",
       "14     ...                              True    1.0    Deltid           False   \n",
       "15     ...                              True    1.0    Deltid           False   \n",
       "16     ...                              True    1.0   Fuldtid           False   \n",
       "17     ...                             False    1.0    Deltid           False   \n",
       "18     ...                              True    1.0    Deltid           False   \n",
       "19     ...                             False    1.0    Deltid           False   \n",
       "\n",
       "          WorkPlaceAddress WorkPlaceCity  WorkPlaceNotStatic  \\\n",
       "0          Østerbrogade 98   København Ø               False   \n",
       "1                                                       True   \n",
       "2             Skolegade 29      Aarhus C               False   \n",
       "3            Ny Kærvej 17B       Aalborg               False   \n",
       "4           Hedegårdsvej 2      Roskilde               False   \n",
       "5    Vester Voldgade 123     København V               False   \n",
       "6                                                       True   \n",
       "7               Torvet 19C          Køge               False   \n",
       "8             Nørre Alle 6    Kalundborg               False   \n",
       "9              Bredgade 50       Herning               False   \n",
       "10             Bredgade 50       Herning               False   \n",
       "11        Sønderbrogade 61       Tørring               False   \n",
       "12        Stationstorvet 4      Ølstykke               False   \n",
       "13          Europaplads 10      Aarhus C               False   \n",
       "14        Vesterbrogade 16   København V               False   \n",
       "15           Tingstedet 20   Svenstrup J               False   \n",
       "16  Allerød Stationsvej 2E       Allerød               False   \n",
       "17                                                     False   \n",
       "18            Savværket 32          Gram               False   \n",
       "19                                                     False   \n",
       "\n",
       "   WorkPlaceOtherAddress  WorkPlacePostalCode WorkplaceID  \n",
       "0                  False                 2100       61547  \n",
       "1                  False                            18122  \n",
       "2                  False                 8000       79787  \n",
       "3                  False                 9000       80901  \n",
       "4                  False                 4000      128237  \n",
       "5                  False                 1552       29562  \n",
       "6                  False                            67273  \n",
       "7                  False                 4600      103354  \n",
       "8                  False                 4400      109974  \n",
       "9                  False                 7400      106331  \n",
       "10                 False                 7400      106331  \n",
       "11                 False                 7160      121826  \n",
       "12                 False                 3650      108053  \n",
       "13                 False                 8000       14299  \n",
       "14                 False                 1620       55088  \n",
       "15                 False                 9230       95648  \n",
       "16                 False                 3450           0  \n",
       "17                  True                           119608  \n",
       "18                 False                 6510      119608  \n",
       "19                  True                           119608  \n",
       "\n",
       "[20 rows x 42 columns]"
      ]
     },
     "execution_count": 21,
     "metadata": {},
     "output_type": "execute_result"
    }
   ],
   "source": [
    "# [Answer to Ex. 8.1.3]\n",
    "Total_res_count = json[\"TotalResultCount\"]\n",
    "print(Total_res_count)\n",
    "df_job\n"
   ]
  },
  {
   "cell_type": "markdown",
   "metadata": {},
   "source": [
    "## Problems from exercise set 9\n",
    "\n",
    "> **Ex. 9.2.1:** Load the data used in the exercise using the `pd.read_csv` function. (Hint: path to file can be both a url or systempath). \n",
    "\n",
    ">Define a variable `sample_string = '\\n'.join(df.sample(2000).reviewBody)` as sample of all the reviews that you will practice on.  (Run it once in a while to get a new sample for potential differences).\n",
    "Imagine we were a company wanting to find the reviews where customers are concerned with the price of a service. They decide to write a regular expression to match all reviews where a currencies and an amount is mentioned. "
   ]
  },
  {
   "cell_type": "code",
   "execution_count": 52,
   "metadata": {},
   "outputs": [
    {
     "data": {
      "text/plain": [
       "\"I ordered 1000 raffles for a good price ($51.00 including delivery) and they were delivered within 3 days. After that order I purchased 1500 more raffles for $ 66.00, including delivery. A friend of mine just ordered 1500 raffles (although larger) at a local printer and paid over $300 for his raffles. No comparison!\\nThese folks have the best items, best prices and fair shipping charges. I've shopped around and know for sure. Bob\\nThis is third time we used them, and perfect every time.\\nEasy, fast, cheap, painless!\\nShuttle service was on-time for departure and arrival. Easy to use website to make reservations, just a great overall experience. Thanks\\nVery good product, price and service.  Delivery was fast ad product arrived in excellent condition.  Will reorder when needed.\\nCat mug wasn't as expected... a piece of paper printed with cats was used to wrap around the mug under the transparent plastic makes it look cheaper than the actually cost paid.  To add, there were scuffs and marks on the transparent plastic part of the mug, but we can't return it because the cost of shipping would be more than the mug itself.  No win win situation.\\nWhen ordering my water system I was not told that my product was on back order. Only after calling support numerous times did I find this out. Still waiting for my system after 2 weeks.\\nCompany was able to modify the artwork with a quick response.  Product is great.\\nThe price was good. Print quality of the monograph was acceptable -- could be better.\\nUnbelievable value! Books were in great shape and arrived rather quickly.\\nI was kept up to date with the delivery of my purchase. They also made sure that it was delivered on time.\\nJeanne\\nThis course was amazing. It helped me get what I needed  to get done fast and it didn´t waste a lot of time so it was a win-win for me\\nThey are friendly and very helpful. I will highly recommend to friends.\\nGreat EXPERIENCE!\\nA perfect transaction. I don't usually order shoes online. They are hard to fit. B\""
      ]
     },
     "execution_count": 52,
     "metadata": {},
     "output_type": "execute_result"
    }
   ],
   "source": [
    "# [Answer to Ex. 9.2.1]\n",
    "import requests\n",
    "url = 'https://raw.githubusercontent.com/snorreralund/explore_regex/master/explore_regex.py'\n",
    "response = requests.get(url)\n",
    "with open('explore_regex.py','w') as f:\n",
    "    f.write(response.text)\n",
    "import explore_regex as e_re\n",
    "\n",
    "url = 'https://raw.githubusercontent.com/snorreralund/scraping_seminar/master/english_review_sample.csv'\n",
    "df = pd.read_csv(url)\n",
    "\n",
    "sample_string = '\\n'.join(df.sample(2000).reviewBody)\n",
    "sample_string[0:2000]"
   ]
  },
  {
   "cell_type": "markdown",
   "metadata": {},
   "source": [
    "> **Ex. 9.2.2:** \n",
    "> Write an expression that matches both the dollar-sign (\\$) and dollar written literally, and the amount before or after a dollar-sign. Remember that the \"$\"-sign is a special character in regular expressions. Explore and refine using the explore_pattern function in the package I created called explore_regex. \n",
    "```python\n",
    "import explore_regex as e_re\n",
    "explore_regex = e_re.Explore_Regex(sample_string) # Initaizlie the Explore regex Class.\n",
    "explore_regex.explore_pattern(pattern) # Use the .explore_pattern method.\n",
    "```\n",
    "\n",
    "\n",
    "Start with exploring the context around digits (\"\\d\") in the data. "
   ]
  },
  {
   "cell_type": "code",
   "execution_count": 53,
   "metadata": {},
   "outputs": [
    {
     "name": "stdout",
     "output_type": "stream",
     "text": [
      "------ Pattern: \\$\t Matched 106 patterns -----\n",
      "Found 0 overlaps between the expressions:\n",
      "        pattern1: \\$ \t and\n",
      "        pattern2: \\$\n",
      "        106 included in pattern1 and not in the pattern2\n",
      "        106 was included in pattern2 and not in pattern1\n",
      "------ Pattern: \\$\\s\t Matched 10 patterns -----\n",
      "Found 20 overlaps between the expressions:\n",
      "        pattern1: \\$\\s \t and\n",
      "        pattern2: \\$\n",
      "        0 included in pattern1 and not in the pattern2\n",
      "        96 was included in pattern2 and not in pattern1\n",
      "------ Pattern: (\\d+(\\.\\d+)?)USD\t Matched 0 patterns -----\n",
      "Found 0 overlaps between the expressions:\n",
      "        pattern1: (\\d+(\\.\\d+)?)USD \t and\n",
      "        pattern2: \\$\n",
      "        0 included in pattern1 and not in the pattern2\n",
      "        106 was included in pattern2 and not in pattern1\n",
      "------ Pattern: (\\d+(\\.\\d+)?\\sUSD)\t Matched 3 patterns -----\n",
      "Found 0 overlaps between the expressions:\n",
      "        pattern1: (\\d+(\\.\\d+)?\\sUSD) \t and\n",
      "        pattern2: \\$\n",
      "        3 included in pattern1 and not in the pattern2\n",
      "        106 was included in pattern2 and not in pattern1\n",
      "------ Pattern: \\$\\s?(\\d+(\\.\\d+)?)\t Matched 95 patterns -----\n",
      "Found 190 overlaps between the expressions:\n",
      "        pattern1: \\$\\s?(\\d+(\\.\\d+)?) \t and\n",
      "        pattern2: \\$\n",
      "        0 included in pattern1 and not in the pattern2\n",
      "        11 was included in pattern2 and not in pattern1\n",
      "------ Pattern: [0-9]+(?:[,.][0-9]+)\\s{0,2}USD\t Matched 1 patterns -----\n",
      "Found 0 overlaps between the expressions:\n",
      "        pattern1: [0-9]+(?:[,.][0-9]+)\\s{0,2}USD \t and\n",
      "        pattern2: \\$\n",
      "        1 included in pattern1 and not in the pattern2\n",
      "        106 was included in pattern2 and not in pattern1\n"
     ]
    }
   ],
   "source": [
    "# [Answer to Ex. 9.2.2]\n",
    "explore_sample = e_re.ExploreRegex(sample_string)\n",
    "first = '\\\\$'\n",
    "second = '\\\\$\\s'\n",
    "third = '(\\\\d+(\\\\.\\\\d+)?)USD'\n",
    "fourth = '(\\\\d+(\\\\.\\\\d+)?\\sUSD)'\n",
    "fifth = '\\\\$\\s?(\\\\d+(\\\\.\\\\d+)?)'\n",
    "sixth = '[0-9]+(?:[,.][0-9]+)\\s{0,2}USD'\n",
    "patterns = [first, second, third, fourth, fifth, sixth]\n",
    "for pattern in patterns:\n",
    "    explore_sample.explore_difference(pattern,patterns[0])\n",
    "explore_sample.explore_pattern(third)"
   ]
  },
  {
   "cell_type": "markdown",
   "metadata": {},
   "source": [
    "> **Ex.9.2.3** Use the .report() method. e_re.report(), and print the all patterns in the development process using the .pattern method - i.e. e_re.patterns "
   ]
  },
  {
   "cell_type": "code",
   "execution_count": 54,
   "metadata": {},
   "outputs": [
    {
     "name": "stdout",
     "output_type": "stream",
     "text": [
      "------ Pattern: \\$\t Matched 106 patterns -----\n",
      "------ Pattern: \\$\\s\t Matched 10 patterns -----\n",
      "------ Pattern: (\\d+(\\.\\d+)?)USD\t Matched 0 patterns -----\n",
      "------ Pattern: (\\d+(\\.\\d+)?\\sUSD)\t Matched 3 patterns -----\n",
      "------ Pattern: \\$\\s?(\\d+(\\.\\d+)?)\t Matched 95 patterns -----\n",
      "------ Pattern: [0-9]+(?:[,.][0-9]+)\\s{0,2}USD\t Matched 1 patterns -----\n"
     ]
    },
    {
     "data": {
      "image/png": "[encoded data removed]",
      "text/plain": [
       "<Figure size 864x576 with 2 Axes>"
      ]
     },
     "metadata": {},
     "output_type": "display_data"
    }
   ],
   "source": [
    "# [Answer to Ex. 9.2.3]\n",
    "explore_sample.report()"
   ]
  },
  {
   "cell_type": "code",
   "execution_count": null,
   "metadata": {},
   "outputs": [],
   "source": []
  }
 ],
 "metadata": {
  "kernelspec": {
   "display_name": "Python 3",
   "language": "python",
   "name": "python3"
  },
  "language_info": {
   "codemirror_mode": {
    "name": "ipython",
    "version": 3
   },
   "file_extension": ".py",
   "mimetype": "text/x-python",
   "name": "python",
   "nbconvert_exporter": "python",
   "pygments_lexer": "ipython3",
   "version": "3.6.5"
  }
 },
 "nbformat": 4,
 "nbformat_minor": 2
}
